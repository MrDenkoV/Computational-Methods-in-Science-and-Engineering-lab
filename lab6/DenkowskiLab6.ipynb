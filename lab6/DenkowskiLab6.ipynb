{
 "cells": [
  {
   "cell_type": "markdown",
   "metadata": {},
   "source": [
    "# Laboratorium 6\n",
    "\n",
    "Rozwiązywanie układów równań liniowych"
   ]
  },
  {
   "cell_type": "code",
   "execution_count": 1,
   "metadata": {},
   "outputs": [],
   "source": [
    "import numpy.linalg as nplin # lin.solve lin.lstsq\n",
    "import scipy.linalg as sclin # lin.lu\n",
    "import numpy as np\n",
    "import networkx as nx\n",
    "import matplotlib.pyplot as plt\n",
    "import random"
   ]
  },
  {
   "cell_type": "markdown",
   "metadata": {},
   "source": [
    "## 1. Gauss–Jordan elimination"
   ]
  },
  {
   "cell_type": "markdown",
   "metadata": {},
   "source": [
    "Napisz i sprawdź funkcję rozwiązującą układ równań liniowych $n\\times n$ metodą Gaussa-Jordana. Dla rozmiarów macierzy współczynników większych niż $500\\times500$ porównaj\n",
    "czasy działania zaimplementowanej funkcji z czasami uzyskanymi dla wybranych funkcji\n",
    "bibliotecznych."
   ]
  },
  {
   "cell_type": "code",
   "execution_count": 2,
   "metadata": {},
   "outputs": [],
   "source": [
    "def generatematrix(n, val=1e6, m=None):\n",
    "    return np.random.uniform(-val,val,size=(n,m if m else n))"
   ]
  },
  {
   "cell_type": "markdown",
   "metadata": {},
   "source": [
    "Generowanie macierzy o danym rozmiarze wartościami o zadanym zakresie."
   ]
  },
  {
   "cell_type": "code",
   "execution_count": 3,
   "metadata": {},
   "outputs": [],
   "source": [
    "def scalematrix(M):\n",
    "    return M/np.max(M[:, :-1], axis=1, keepdims=True)"
   ]
  },
  {
   "cell_type": "markdown",
   "metadata": {},
   "source": [
    "Skalujemy macierz, żeby w każdym wierszu największą wartością współczynnika (czyli poza ostatnią kolumną) była 1."
   ]
  },
  {
   "cell_type": "code",
   "execution_count": 4,
   "metadata": {},
   "outputs": [],
   "source": [
    "def partialpivoting(M):\n",
    "    for i in range(len(M)):\n",
    "        ix = i\n",
    "        mx = abs(M[i][i])\n",
    "        for k in range(i+1, len(M)):\n",
    "            if abs(M[i][k])>mx:\n",
    "                mx = abs(M[i][k])\n",
    "                ix=k\n",
    "        M[[i, ix]]=M[[ix, i]]\n",
    "    return M"
   ]
  },
  {
   "cell_type": "markdown",
   "metadata": {},
   "source": [
    "Nie było sprecyzowane jaki i czy w ogóle używać pivotingu. Wybrałem opcję pośrednią - pivoting częściowy.\\\n",
    "Chcemy, aby na miejscu [i,i] w macierzy, była możliwie jak najbardziej różna wartość od 0."
   ]
  },
  {
   "cell_type": "code",
   "execution_count": 5,
   "metadata": {},
   "outputs": [],
   "source": [
    "def gaussjord(A, Y):\n",
    "    M=np.hstack((A,Y))\n",
    "    M = partialpivoting(scalematrix(M))\n",
    "    \n",
    "    for i in range(M.shape[0]):\n",
    "        for j in range(M.shape[0]):\n",
    "            if i==j:\n",
    "                continue\n",
    "            M[j] *= (M[i][i]/M[j][i]) # przeskalowanie wiersza\n",
    "            M[j] -= M[i]\n",
    "            M[j][i] = 0. # dla pewności, ze względu na błędy numeryczne przy liczbach zmiennoprzecinkowych\n",
    "    \n",
    "    res=[]\n",
    "    for i in range(M.shape[0]):\n",
    "        res.append([M[i][-1]/M[i][i]])\n",
    "    \n",
    "    return np.array(res)"
   ]
  },
  {
   "cell_type": "markdown",
   "metadata": {},
   "source": [
    "Metodą Gaussa-Jordana tworzymy macierz diagonalną (sama metoda Gaussa-Jordana sprowadza tylko do macierzy diagonalnej, ale żeby rozwiązać układ równań i sobie ułatwić zadanie możemy ją bardzo łatwo rozszerzyć i za każdym razem odejmować swój przeskalowany odpowiednio wiersz od wszystkich pozostałych)."
   ]
  },
  {
   "cell_type": "code",
   "execution_count": 6,
   "metadata": {},
   "outputs": [
    {
     "data": {
      "text/plain": [
       "array([[-5.96448209],\n",
       "       [ 1.68259387],\n",
       "       [ 0.30096522],\n",
       "       [ 1.89611223],\n",
       "       [ 0.64382849]])"
      ]
     },
     "execution_count": 6,
     "metadata": {},
     "output_type": "execute_result"
    }
   ],
   "source": [
    "gaussjord(generatematrix(5, 10), generatematrix(5, 10, 1))"
   ]
  },
  {
   "cell_type": "markdown",
   "metadata": {},
   "source": [
    "Przetestujmy działanie napisanej funkcji.\\\n",
    "Wykorzystamy do tego funkcję solve i lstsq z pakietu numpy.linalg ."
   ]
  },
  {
   "cell_type": "code",
   "execution_count": 7,
   "metadata": {},
   "outputs": [],
   "source": [
    "def tstgj(n=100, val=1e6, err=1e-7):\n",
    "    A, Y = generatematrix(n, val), generatematrix(n, val, 1)\n",
    "    sol=gaussjord(A, Y)\n",
    "    dif=abs(nplin.solve(A, Y)-sol) + abs(nplin.lstsq(A, Y, rcond=-1)[0]-sol)\n",
    "    if np.all(dif<err):\n",
    "        return True\n",
    "    else:\n",
    "        print(max(dif))\n",
    "        return False"
   ]
  },
  {
   "cell_type": "markdown",
   "metadata": {},
   "source": [
    "Generujemy losowe macierze, o wartościach w podanym zakresie i sprawdzamy czy nasze rozwiązanie odbiega od bibliotecznego bardziej niż zadany błąd."
   ]
  },
  {
   "cell_type": "code",
   "execution_count": 8,
   "metadata": {},
   "outputs": [
    {
     "name": "stdout",
     "output_type": "stream",
     "text": [
      "True\n",
      "True\n",
      "all\n"
     ]
    }
   ],
   "source": [
    "print(tstgj())\n",
    "print(tstgj(500, 1e12))\n",
    "for i in range(100):\n",
    "    if not tstgj():\n",
    "        print(f\"Yikes {i}\")\n",
    "    print(i, end='\\r')\n",
    "print(\"all\")"
   ]
  },
  {
   "cell_type": "markdown",
   "metadata": {},
   "source": [
    "Wyniki są bardzo podobne, różnica jest zazwyczaj mniejsza niż 1e-7 (czasem trochę gorsza, ale dalej bardzo mała) więc bardzo dokładnie jak dla wartości z zakresu [1e-6, 1e6]."
   ]
  },
  {
   "cell_type": "markdown",
   "metadata": {},
   "source": [
    "Porównajmy czasy wykonania, dla funkcji napisanej i bibliotecznej, dla macierzy większych niż $500\\times500$.\\\n",
    "Znowu będę porównywał z funkcją solve z pakietu numpy.linalg ."
   ]
  },
  {
   "cell_type": "code",
   "execution_count": 9,
   "metadata": {},
   "outputs": [],
   "source": [
    "def timgj(n=500, val=1e6):\n",
    "    A, Y = generatematrix(n, val), generatematrix(n, val, 1)\n",
    "    print(\"\\n\\tFunkcja biblioteczna solve dla n=%s:\"%n)\n",
    "    %timeit index = nplin.solve(A, Y)\n",
    "    print(\"\\n\\tFunckja biblioteczna lstsq dla n=%s:\"%n)\n",
    "    %timeit index = nplin.lstsq(A,Y,rcond=-1)\n",
    "    print(\"\\n\\t Funkcja napisana dla n=%s:\"%n)\n",
    "    %timeit index = gaussjord(A, Y)\n",
    "    print(\"\\n\")"
   ]
  },
  {
   "cell_type": "code",
   "execution_count": 10,
   "metadata": {
    "scrolled": false
   },
   "outputs": [
    {
     "name": "stdout",
     "output_type": "stream",
     "text": [
      "\n",
      "\tFunkcja biblioteczna solve dla n=500:\n",
      "11.9 ms ± 4.42 ms per loop (mean ± std. dev. of 7 runs, 100 loops each)\n",
      "\n",
      "\tFunckja biblioteczna lstsq dla n=500:\n",
      "183 ms ± 61.7 ms per loop (mean ± std. dev. of 7 runs, 10 loops each)\n",
      "\n",
      "\t Funkcja napisana dla n=500:\n",
      "1.9 s ± 129 ms per loop (mean ± std. dev. of 7 runs, 1 loop each)\n",
      "\n",
      "\n",
      "\n",
      "\tFunkcja biblioteczna solve dla n=750:\n",
      "The slowest run took 5.77 times longer than the fastest. This could mean that an intermediate result is being cached.\n",
      "30.3 ms ± 27.1 ms per loop (mean ± std. dev. of 7 runs, 10 loops each)\n",
      "\n",
      "\tFunckja biblioteczna lstsq dla n=750:\n",
      "395 ms ± 92.4 ms per loop (mean ± std. dev. of 7 runs, 1 loop each)\n",
      "\n",
      "\t Funkcja napisana dla n=750:\n",
      "3.92 s ± 30.5 ms per loop (mean ± std. dev. of 7 runs, 1 loop each)\n",
      "\n",
      "\n",
      "\n",
      "\tFunkcja biblioteczna solve dla n=1000:\n",
      "30.4 ms ± 28.7 µs per loop (mean ± std. dev. of 7 runs, 10 loops each)\n",
      "\n",
      "\tFunckja biblioteczna lstsq dla n=1000:\n",
      "664 ms ± 4.69 ms per loop (mean ± std. dev. of 7 runs, 1 loop each)\n",
      "\n",
      "\t Funkcja napisana dla n=1000:\n",
      "7.46 s ± 292 ms per loop (mean ± std. dev. of 7 runs, 1 loop each)\n",
      "\n",
      "\n"
     ]
    }
   ],
   "source": [
    "timgj()\n",
    "timgj(750)\n",
    "timgj(1000)"
   ]
  },
  {
   "cell_type": "markdown",
   "metadata": {},
   "source": [
    "Jak widać funkcje biblioteczne są dużo szybsze od napisanej eliminacji gaussa-jordana. Jest też znaczna różnica między funkcjami bibliotecznymi, z których numpy.linalg.solve jest zdecydowanie szybsza"
   ]
  },
  {
   "cell_type": "markdown",
   "metadata": {},
   "source": [
    "## 2. LU Factorisation"
   ]
  },
  {
   "cell_type": "markdown",
   "metadata": {},
   "source": [
    "Napisz i sprawdź funkcję dokonującą faktoryzacji A = LU macierzy A. Zastosuj częściowe poszukiwanie elementu wiodącego oraz skalowanie."
   ]
  },
  {
   "cell_type": "code",
   "execution_count": 11,
   "metadata": {},
   "outputs": [],
   "source": [
    "def LUdec(A):\n",
    "    U = scalematrix(A.copy())\n",
    "    L = np.zeros((A.shape[0], A.shape[0]))\n",
    "    \n",
    "    for i in range(A.shape[0]):\n",
    "        L[i][i]=1.\n",
    "        for j in range(i+1, A.shape[0]):\n",
    "            L[j][i] = U[j][i]/U[i][i]\n",
    "            U[j] -= U[i]*L[j][i]\n",
    "            U[j][i] = 0.\n",
    "    \n",
    "    return L, U"
   ]
  },
  {
   "cell_type": "markdown",
   "metadata": {},
   "source": [
    "Rozkładamy daną macierz, na dwie: L - z zerami nad przekątną i U - z zerami pod przekątną"
   ]
  },
  {
   "cell_type": "code",
   "execution_count": 12,
   "metadata": {},
   "outputs": [
    {
     "name": "stdout",
     "output_type": "stream",
     "text": [
      "[[-0.96384825  0.386775    1.          0.89848542  0.4759548 ]\n",
      " [-0.3284489   0.76414158  0.44420808  1.         -0.89610305]\n",
      " [-0.89630926  0.31161006  0.73437488  1.          0.3475026 ]\n",
      " [-3.68984509 -0.88517293  0.67119828  1.          3.74669995]\n",
      " [ 0.09440178  1.         -0.85827146  0.28020132 -0.71524673]]\n",
      "[[-0.96384825  0.386775    1.          0.89848542  0.4759548 ]\n",
      " [-0.3284489   0.76414158  0.44420808  1.         -0.89610305]\n",
      " [-0.89630926  0.31161006  0.73437488  1.          0.3475026 ]\n",
      " [-3.68984509 -0.88517293  0.67119828  1.          3.74669995]\n",
      " [ 0.09440178  1.         -0.85827146  0.28020132 -0.71524673]]\n",
      "[[ 1.          0.          0.          0.          0.        ]\n",
      " [ 0.34076827  1.          0.          0.          0.        ]\n",
      " [ 0.92992777 -0.07600765  1.          0.          0.        ]\n",
      " [ 3.82824276 -3.7414018  14.7585095   1.          0.        ]\n",
      " [-0.09794258  1.64133252  4.95553672  0.60568188  1.        ]]\n",
      "[[-0.96384825  0.386775    1.          0.89848542  0.4759548 ]\n",
      " [ 0.          0.63234094  0.10343982  0.69382468 -1.05829334]\n",
      " [ 0.          0.         -0.18769067  0.21720944 -0.17553937]\n",
      " [ 0.          0.          0.         -3.04943095  0.55582828]\n",
      " [ 0.          0.          0.          0.          1.60161746]]\n",
      "True\n"
     ]
    }
   ],
   "source": [
    "A = scalematrix(generatematrix(5))\n",
    "L, U = LUdec(A)\n",
    "print(A)\n",
    "print(L@U)\n",
    "print(L)\n",
    "print(U)\n",
    "print(np.all(A-L@U<1e-7))"
   ]
  },
  {
   "cell_type": "code",
   "execution_count": 13,
   "metadata": {},
   "outputs": [],
   "source": [
    "def tstlu(n=500, val=1e6, err=1e-7):\n",
    "    A = scalematrix(generatematrix(n))\n",
    "    L, U = LUdec(A)\n",
    "    res = L@U-A\n",
    "    if np.all(res<err):\n",
    "        return True\n",
    "    else:\n",
    "        print(max(res))\n",
    "        return False"
   ]
  },
  {
   "cell_type": "markdown",
   "metadata": {},
   "source": [
    "Testujemy czy z napisanej dekompozycji LU uzyskamy macierz startową"
   ]
  },
  {
   "cell_type": "code",
   "execution_count": 14,
   "metadata": {},
   "outputs": [
    {
     "name": "stdout",
     "output_type": "stream",
     "text": [
      "True\n",
      "True\n",
      "all\n"
     ]
    }
   ],
   "source": [
    "print(tstlu())\n",
    "print(tstlu(500, 1e12))\n",
    "for i in range(20):\n",
    "    if not tstlu():\n",
    "        print(f\"Yikes {i}\")\n",
    "    print(i, end='\\r')\n",
    "print(\"all\")\n"
   ]
  },
  {
   "cell_type": "markdown",
   "metadata": {},
   "source": [
    "Jak widać LU dekompozycja działa dobrze i mieści się w zakresie błędu 1e-7, co dla zakresu danych [-1e6,1e6] jest bardzo dobrym wynikiem."
   ]
  },
  {
   "cell_type": "markdown",
   "metadata": {},
   "source": [
    "Z ciekawości porównajmy prędkości funkcji bibliotecznej i własnej implementacji."
   ]
  },
  {
   "cell_type": "code",
   "execution_count": 15,
   "metadata": {
    "scrolled": false
   },
   "outputs": [
    {
     "name": "stdout",
     "output_type": "stream",
     "text": [
      "Funkcja biblioteczna rozmiar 500\n",
      "9.46 ms ± 60.3 µs per loop (mean ± std. dev. of 7 runs, 100 loops each)\n",
      "Funkcja własna rozmiar 500\n",
      "773 ms ± 5.33 ms per loop (mean ± std. dev. of 7 runs, 1 loop each)\n",
      "Funkcja biblioteczna rozmiar 1000\n",
      "51.4 ms ± 23 ms per loop (mean ± std. dev. of 7 runs, 10 loops each)\n",
      "Funkcja własna rozmiar 1000\n",
      "3.57 s ± 49.2 ms per loop (mean ± std. dev. of 7 runs, 1 loop each)\n"
     ]
    }
   ],
   "source": [
    "A = scalematrix(generatematrix(500))\n",
    "print(\"Funkcja biblioteczna rozmiar 500\")\n",
    "%timeit index = sclin.lu(A)\n",
    "print(\"Funkcja własna rozmiar 500\")\n",
    "%timeit index = LUdec(A)\n",
    "A = scalematrix(generatematrix(1000))\n",
    "print(\"Funkcja biblioteczna rozmiar 1000\")\n",
    "%timeit index = sclin.lu(A)\n",
    "print(\"Funkcja własna rozmiar 1000\")\n",
    "%timeit index = LUdec(A)"
   ]
  },
  {
   "cell_type": "markdown",
   "metadata": {},
   "source": [
    "Jak widać implementacja własna jest jednak dosyć wolniejsza od funkcji bibliotecznej."
   ]
  },
  {
   "cell_type": "markdown",
   "metadata": {},
   "source": [
    "## Analysis of electrical network"
   ]
  },
  {
   "cell_type": "markdown",
   "metadata": {},
   "source": [
    "###### Napisz program który:\n",
    "a) Wczytuje z pliku listę krawędzi obwodu elektrycznego. (Graf skierowany i ważony)\\\n",
    "b) Wczytuje między którymi węzłami i jaką siłę elektromotoryczną przyłożono.\\\n",
    "c) Wykorzystując praa Kirchoffa znajduje natężenie prądu w każdej częsci obwodu i przedstawia je na rysunku w postaci grafu ważonego z etykietami.\\\n",
    "e) Wykorzystując metodę potencjałów węzłowych zaimplementuj alternatywne rozwiązanie problemu.\\\n",
    "f) Przedstaw (wizualizacja + sprawdzenie poprawności wyników) działanie programu dla grafów spójnych mających od 15 do 100 wierzchołków:\n",
    "- Spójny graf losowy\n",
    "- Grad 3-regularny (kubiczny)\n",
    "- Graf złożony z dwóch grafów losowych połączonych mostkiem\n",
    "- Graf siatka 2D"
   ]
  },
  {
   "cell_type": "code",
   "execution_count": 16,
   "metadata": {},
   "outputs": [],
   "source": [
    "def addres(G, r=100):\n",
    "    for i, e in enumerate(G.edges):\n",
    "        G.edges[e]['R']=random.randint(1,r)\n",
    "        G.edges[e]['ix']=i\n",
    "        G.edges[e]['I']=0\n",
    "    return G\n",
    "\n",
    "def randomgraph(n, e=0.5, r=100):\n",
    "    G = nx.gnp_random_graph(n, e)\n",
    "    while not nx.is_connected(G):\n",
    "        G = nx.gnp_random_graph(n, e)\n",
    "    return addres(G, r)\n",
    "\n",
    "def randomcubic(n, r=100):\n",
    "    return addres(nx.random_regular_graph(3, n), r)\n",
    "\n",
    "def randombridge(n, r=100):\n",
    "    s = random.randint(3, n-3)\n",
    "    Gf = nx.gnm_random_graph(s, random.randint(s-1, s*(s-1)/2))\n",
    "    while not nx.is_connected(Gf):\n",
    "        Gf = nx.gnm_random_graph(s, random.randint(s-1, s*(s-1)/2))\n",
    "    \n",
    "    s=n-s\n",
    "    Gs = nx.gnm_random_graph(s, random.randint(s-1, s*(s-1)/2))\n",
    "    while not nx.is_connected(Gf):\n",
    "        Gs = nx.gnm_random_graph(s, random.randint(s-1, s*(s-1)/2))\n",
    "        \n",
    "    G = nx.empty_graph(n)\n",
    "    \n",
    "    for e in Gf.edges:\n",
    "        G.add_edge(*e)\n",
    "        \n",
    "    s=n-s\n",
    "    for e in Gs.edges:\n",
    "        G.add_edge(s+e[0], s+e[1])\n",
    "        \n",
    "    G.add_edge(random.randint(0, s-1), random.randint(s, n-1))\n",
    "    return addres(G, r)\n",
    "\n",
    "def randomgrid(x, y, r=100):\n",
    "    tmp = nx.grid_2d_graph(x, y)\n",
    "    while not nx.is_connected(tmp):\n",
    "        tmp = nx.grid_2d_graph(x, y)\n",
    "    \n",
    "    nodes = {}\n",
    "    G = nx.empty_graph()\n",
    "    i=0\n",
    "    for n in tmp.nodes:\n",
    "        nodes[n]=i\n",
    "        G.add_node(i)\n",
    "        i+=1\n",
    "    for n in nodes:\n",
    "        for s in tmp.neighbors(n):\n",
    "            if (nodes[n], nodes[s]) not in G:\n",
    "                G.add_edge(nodes[n], nodes[s])\n",
    "    return addres(G, r)\n",
    "\n",
    "def save(G, s, t, e, name):\n",
    "    with open(name, 'w') as f:\n",
    "        f.write(\"%s %s\\n%s %s %s\\n\"%(len(G.nodes), len(G.edges), s, t, e))\n",
    "        for e in G.edges:\n",
    "            f.write(\"%s %s %s\\n\"%(e[0], e[1], G.edges[e[0], e[1]]['R']))\n",
    "\n",
    "def load(name):\n",
    "    with open(name, 'r') as f:\n",
    "        s, t, e = f.readline().split()\n",
    "        V, E = f.readline().split()\n",
    "        G = nx.empty_graph(V)\n",
    "        for line in f.readlines():\n",
    "            tmp = line.split()\n",
    "            if len(tmp)!=3:\n",
    "                continue\n",
    "            G.add_edge(tmp[0], tmp[1], tmp[2])\n",
    "        return G, s, t, e\n",
    "    \n",
    "def randomele(G, e=100):\n",
    "    v = len(G.nodes)\n",
    "    s = random.randint(0, v-1)\n",
    "    t = random.randint(0, v-1)\n",
    "    while s==t:\n",
    "        t=random.randint(0, v-1)\n",
    "    return s, t, random.randint(1, e)\n",
    "\n",
    "def pri(G):\n",
    "    for e in G.edges(data=True):\n",
    "        print(\"Edge: %s - %s \\t R=%s id=%s\"%(e[0], e[1], e[2]['R'], e[2]['ix']))"
   ]
  },
  {
   "cell_type": "code",
   "execution_count": 17,
   "metadata": {},
   "outputs": [],
   "source": [
    "# pri(randomgraph(10))\n",
    "# pri(randomcubic(10))\n",
    "# pri(randombridge(10))\n",
    "# pri(randomgrid(2, 5))"
   ]
  },
  {
   "cell_type": "code",
   "execution_count": 18,
   "metadata": {},
   "outputs": [],
   "source": [
    "# drawgraph(randomgraph(10), 1, 2)"
   ]
  },
  {
   "cell_type": "markdown",
   "metadata": {},
   "source": [
    "Losowanie, czytanie, zapisywanie i wypisywanie grafów."
   ]
  },
  {
   "cell_type": "code",
   "execution_count": 19,
   "metadata": {},
   "outputs": [],
   "source": [
    "def drawgraph(G, s, t):\n",
    "    pos = nx.spring_layout(G)\n",
    "    colours = ['#6600CC' for i in range(len(G.nodes))]\n",
    "    colours[s] = '#FF66B2'\n",
    "    colours[t] = '#00FFFF'\n",
    "    \n",
    "    _, amp = zip(*nx.get_edge_attributes(G, 'I').items())\n",
    "    \n",
    "    lab = {}\n",
    "    for k, v in nx.get_edge_attributes(G, 'I').items():\n",
    "        lab[k] = \"{0:.5f}\".format(v)\n",
    "        \n",
    "    nx.draw_networkx_nodes(G, pos, node_color=colours)\n",
    "    nx.draw_networkx_edges(G, pos, edge_color=amp, edge_cmap=plt.cm.Reds)\n",
    "    nx.draw_networkx_labels(G, pos)\n",
    "    nx.draw_networkx_edge_labels(G, pos, edge_labels=lab)\n",
    "    \n",
    "    plt.show()"
   ]
  },
  {
   "cell_type": "markdown",
   "metadata": {},
   "source": [
    "Rysowanie grafu wynikowego, z podpisami i kolorami (i zmienną intensywnością)."
   ]
  },
  {
   "cell_type": "code",
   "execution_count": 20,
   "metadata": {},
   "outputs": [],
   "source": [
    "def direct(graph, s, t):\n",
    "    G=nx.DiGraph()\n",
    "    for i in range(len(graph.nodes)):\n",
    "        G.add_node(i)\n",
    "    for fr, to, data in graph.edges(data=True):\n",
    "        if fr == t:\n",
    "            fr, t = t, fr\n",
    "        if to == s:\n",
    "            to, s = s, to\n",
    "        G.add_edge(fr, to)\n",
    "        G.edges[(fr,to)]['R']=data['R']\n",
    "        G.edges[(fr,to)]['I']=data['I']\n",
    "        G.edges[(fr,to)]['ix']=data['ix']\n",
    "    \n",
    "    # usuniecie zbednych krawedzi i node'ow\n",
    "    rem=set()\n",
    "    components = nx.weakly_connected_components(G)\n",
    "    for c in components:\n",
    "        if s in c or t in c:\n",
    "            continue\n",
    "        rem |= c\n",
    "\n",
    "    for n in rem:\n",
    "#         print(n)\n",
    "        G.remove_node(n)\n",
    "        \n",
    "    return G"
   ]
  },
  {
   "cell_type": "code",
   "execution_count": 21,
   "metadata": {},
   "outputs": [],
   "source": [
    "# G=randomgraph(10)\n",
    "# pri(G)\n",
    "# print('\\n')\n",
    "# pri(direct(G))"
   ]
  },
  {
   "cell_type": "code",
   "execution_count": 28,
   "metadata": {},
   "outputs": [],
   "source": [
    "def slv(graph, s, t, sem):\n",
    "    G = direct(graph, s, t)\n",
    "    R = np.zeros((len(G.edges), len(G.edges)))\n",
    "    W = np.zeros(len(G.edges))\n",
    "    \n",
    "    eq=0\n",
    "    for v in G.nodes:\n",
    "        if eq>len(G.edges):\n",
    "            break\n",
    "        for e in G.out_edges(v):\n",
    "            R[eq][G[e[0]][e[1]]['ix']] = 1\n",
    "        for e in G.in_edges():\n",
    "            R[eq][G[e[0]][e[1]]['ix']] = -1\n",
    "        eq+=1\n",
    "        \n",
    "    cycles = nx.cycle_basis(G.to_undirected())\n",
    "    for c in cycles:\n",
    "        if eq>=len(G.edges):\n",
    "            break\n",
    "        pre=c[-1]\n",
    "        for n in c:\n",
    "            if pre == s and n == t:\n",
    "                pre=n\n",
    "                W[eq]=sem\n",
    "                continue\n",
    "            elif pre == t and n == s:\n",
    "                pre=n\n",
    "                W[eq]=-sem\n",
    "                continue\n",
    "            if (pre, n) in G.edges:\n",
    "                R[eq][G[pre][n]['ix']]=G[pre][n]['R']\n",
    "            else:\n",
    "#                 print(c, n, pre)\n",
    "                R[eq][G[n][pre]['ix']]=-G[n][pre]['R']\n",
    "            pre=n\n",
    "        eq+=1\n",
    "        \n",
    "#     print(R, W)\n",
    "#     res=nplin.solve(R, W)\n",
    "    for e in G.edges:\n",
    "        G[e[0]][e[1]]['R']=res[G[e[0]][e[1]]['ix']]\n",
    "    return G"
   ]
  },
  {
   "cell_type": "code",
   "execution_count": 29,
   "metadata": {},
   "outputs": [
    {
     "data": {
      "image/png": "[encoded data removed]",
      "text/plain": [
       "<Figure size 432x288 with 1 Axes>"
      ]
     },
     "metadata": {},
     "output_type": "display_data"
    }
   ],
   "source": [
    "G=randomgraph(10)\n",
    "st, end, ele = randomele(G)\n",
    "# pri(G)\n",
    "# print(nx.cycle_basis(G))\n",
    "# res=slv(G, st, end, ele)\n",
    "drawgraph(G, st, end)"
   ]
  },
  {
   "cell_type": "code",
   "execution_count": 24,
   "metadata": {},
   "outputs": [],
   "source": [
    "# def slv(graph, s, t, sem):\n",
    "#     V, E = len(graph.nodes), len(graph.edges)\n",
    "#     G=direct(graph)\n",
    "#     M = []\n",
    "#     W = []\n",
    "#     eq=0\n",
    "    \n",
    "#     for i in range(V):\n",
    "#         if i==s or i==t or i>=E:\n",
    "#             continue\n",
    "#         r = np.zeros(E)\n",
    "#         for e in G.in_edges(i, data=True):\n",
    "#             r[e[2]['ix']] = 1\n",
    "#         for e in G.out_edges(i, data=True):\n",
    "#             r[e[2]['ix']] = -1\n",
    "#         eq += 1\n",
    "#         M.append(r)\n",
    "#         W.append(0)\n",
    "    \n",
    "#     r = np.zeros(E)\n",
    "#     for e in G.out_edges(s, data=True):\n",
    "#         r[e[2]['ix']] = -1\n",
    "#     for e in G.in_edges(t, data=True):\n",
    "#         r[e[2]['ix']] = 1\n",
    "    \n",
    "#     W.append(0)\n",
    "#     M.append(r)\n",
    "#     eq+=1\n",
    "    \n",
    "#     print(eq)\n",
    "    \n",
    "#     cycles = nx.cycle_basis(G.to_undirected())\n",
    "#     for c in cycles:\n",
    "# #         print(c)\n",
    "#         r=np.zeros(E)\n",
    "#         prev = c[0]\n",
    "#         for n in c[1:]:\n",
    "# #             print(st, n)\n",
    "#             if G.has_edge(prev, n):\n",
    "#                 r[G[prev][n]['ix']] = G[prev][n]['R']\n",
    "#             else:\n",
    "#                 r[G[n][prev]['ix']] = -G[n][prev]['R']\n",
    "#             prev=n\n",
    "#         W.append(0)\n",
    "#         M.append(r)\n",
    "#         eq += 1\n",
    "#     print(eq)\n",
    "#     paths = nx.all_simple_paths(G, s, t)\n",
    "#     for p in paths:\n",
    "#         r = np.zeros(E)\n",
    "#         prev = p[0]\n",
    "#         for ob in p[1:]:\n",
    "#             r[G[prev][ob]['ix']] = G[prev][ob]['R']\n",
    "#             prev=ob\n",
    "#         M.append(r)\n",
    "#         W.append(sem)\n",
    "#         eq += 1\n",
    "#         if eq>E:\n",
    "#             break\n",
    "#     print(eq)\n",
    "#     M=np.array(M)\n",
    "#     W=np.array(W)\n",
    "#     res = nplin.inv(M.T @ M) @ M.T  @ W\n",
    "#     print(W)\n",
    "#     for ix, e in enumerate(G.edges):\n",
    "#         G.edges[e]['I'] = res[i]\n",
    "        \n",
    "#     return G"
   ]
  },
  {
   "cell_type": "code",
   "execution_count": 25,
   "metadata": {},
   "outputs": [],
   "source": [
    "# G=randomgraph(10)\n",
    "# st, end, ele = randomele(G)\n",
    "# print(nx.cycle_basis(G))\n",
    "# res=slv(G, st, end, ele)\n",
    "# drawgraph(G, st, end)"
   ]
  }
 ],
 "metadata": {
  "kernelspec": {
   "display_name": "Python 3",
   "language": "python",
   "name": "python3"
  },
  "language_info": {
   "codemirror_mode": {
    "name": "ipython",
    "version": 3
   },
   "file_extension": ".py",
   "mimetype": "text/x-python",
   "name": "python",
   "nbconvert_exporter": "python",
   "pygments_lexer": "ipython3",
   "version": "3.7.4"
  }
 },
 "nbformat": 4,
 "nbformat_minor": 2
}
