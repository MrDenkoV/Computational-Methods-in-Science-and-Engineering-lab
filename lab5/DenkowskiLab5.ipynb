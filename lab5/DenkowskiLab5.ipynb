{
 "cells": [
  {
   "cell_type": "markdown",
   "metadata": {},
   "source": [
    "# Lab 3"
   ]
  },
  {
   "cell_type": "markdown",
   "metadata": {},
   "source": [
    "Functions and ranges"
   ]
  },
  {
   "cell_type": "code",
   "execution_count": 1,
   "metadata": {},
   "outputs": [],
   "source": [
    "from mpmath import mp"
   ]
  },
  {
   "cell_type": "code",
   "execution_count": 2,
   "metadata": {},
   "outputs": [],
   "source": [
    "def f1(x): return mp.cos(x)*mp.cosh(x)-1\n",
    "x1 = [mp.pi*3/2, mp.pi*2]\n",
    "def f2(x): return 1/x-mp.tan(x)\n",
    "x2 = [mp.mpf(0), mp.pi/2]\n",
    "def f3(x): return 2**(-x)+mp.e**x+2*mp.cos(x)-6\n",
    "x3 = [mp.mpf(1), mp.mpf(3)]"
   ]
  },
  {
   "cell_type": "markdown",
   "metadata": {},
   "source": [
    "# 1. Bisection"
   ]
  },
  {
   "cell_type": "markdown",
   "metadata": {},
   "source": [
    "##### Requiers a continuous function and interval (a, b) that fulfills $ f(a)f(b)<=0 $\n",
    "For a continuous function following statement holds true: $ \\forall y\\in(f(a), f(b))\\,\\, \\exists x\\in(\\,a, b)\\,: f(x)=y$ $ \\implies $ $ \\exists x\\in(a,b): f(x)=0 $ in our case"
   ]
  },
  {
   "cell_type": "code",
   "execution_count": 3,
   "metadata": {},
   "outputs": [],
   "source": [
    "def bisect(f, r, prec, err):\n",
    "    mp.dps=prec\n",
    "    a=r[0]\n",
    "    b=r[1]\n",
    "    try:\n",
    "        A=f(a)\n",
    "    except:\n",
    "        a+=err\n",
    "        A=f(a)\n",
    "    try:\n",
    "        B=f(b)\n",
    "    except:\n",
    "        b-=err\n",
    "        B=f(b)\n",
    "    assert A*B<=0\n",
    "    if A==0: return a, A, 0\n",
    "    if B==0: return b, B, 0\n",
    "    it=mp.ceil(mp.log((b-a)/err)/mp.log(2))\n",
    "    cnt=0\n",
    "    leng=b-a\n",
    "    m=a+leng/2\n",
    "    M=f(m)\n",
    "    while abs(leng)>err and cnt<it: # both statements are equal in this case\n",
    "        cnt += 1\n",
    "        leng/=2\n",
    "        m = a+leng\n",
    "        M = f(m)\n",
    "        if M==0: return m, M, cnt\n",
    "        if mp.sign(M)*mp.sign(A)<0:# signum not to underflow nor overflow\n",
    "            b=m\n",
    "            B=M\n",
    "        else:\n",
    "            a=m\n",
    "            A=M\n",
    "    return m, M, cnt"
   ]
  },
  {
   "cell_type": "code",
   "execution_count": 4,
   "metadata": {},
   "outputs": [
    {
     "name": "stdout",
     "output_type": "stream",
     "text": [
      "(mpf('4.7300407137759519'), mpf('-1.7920119506076304e-6'), 24)\n"
     ]
    }
   ],
   "source": [
    "print(bisect(f1, x1, 15, 1e-7))"
   ]
  },
  {
   "cell_type": "code",
   "execution_count": 5,
   "metadata": {},
   "outputs": [],
   "source": [
    "def testbi(f, r):\n",
    "    x, y, c = bisect(f, r, 50, 1e-7)\n",
    "    print(f\"\\nx={x}\\ny={y}\\niterations={c}\\n\")\n",
    "    x, y, c = bisect(f, r, 50, 1e-15)\n",
    "    print(f\"x={x}\\ny={y}\\niterations={c}\\n\")\n",
    "    x, y, c = bisect(f, r, 50, 1e-33)\n",
    "    print(f\"x={x}\\ny={y}\\niterations={c}\\n\\n\\n\")"
   ]
  },
  {
   "cell_type": "code",
   "execution_count": 6,
   "metadata": {},
   "outputs": [
    {
     "name": "stdout",
     "output_type": "stream",
     "text": [
      "\n",
      "x=4.7300407137759520999423000235033047455868171482507\n",
      "y=-0.0000017920119401830848929701778868802834431469753721587\n",
      "iterations=24\n",
      "\n",
      "x=4.7300407448627038796742889969950499964630621242801\n",
      "y=-0.0000000000000084364080361555027450488128545438322166703572745291\n",
      "iterations=51\n",
      "\n",
      "x=4.7300407448627040260240481008338849513259148099913\n",
      "y=7.576210851985323587082223084674072511794124918112e-33\n",
      "iterations=111\n",
      "\n",
      "\n",
      "\n",
      "\n",
      "x=0.86033360079820915576532047078100127318324823021766\n",
      "y=-0.000000043606024870710021459546712727671670869217332213966\n",
      "iterations=24\n",
      "\n",
      "x=0.86033358901937996089029589836246357903842645143713\n",
      "y=-7.3451394870684062873001110382373052764893438979405e-16\n",
      "iterations=51\n",
      "\n",
      "x=0.86033358901937976248389342413766226661673961349168\n",
      "y=2.4728015282145241248712213871326454879640714289617e-34\n",
      "iterations=111\n",
      "\n",
      "\n",
      "\n",
      "\n",
      "x=1.829383552074432373046875\n",
      "y=-0.0000002044983779175721029939109828989162196010120972086\n",
      "iterations=25\n",
      "\n",
      "x=1.8293836019338494125463512318674474954605102539063\n",
      "y=0.0000000000000024420745617994864393378449719380223188354860243789\n",
      "iterations=51\n",
      "\n",
      "x=1.8293836019338488171362129468141510034535686810466\n",
      "y=8.7017207117816697564041113497366994427287187510743e-34\n",
      "iterations=111\n",
      "\n",
      "\n",
      "\n"
     ]
    }
   ],
   "source": [
    "testbi(f1, x1)\n",
    "testbi(f2, x2)\n",
    "testbi(f3, x3)"
   ]
  },
  {
   "cell_type": "markdown",
   "metadata": {},
   "source": [
    "Ile iteracji aby osiągnąć dokładność rzędu $10^{-7}$, $10^{-15}$ i $10^{-33}$?\\\n",
    "Wystarczy:\n",
    "* 51 i 111 iteracji, odpowiednio dla dokładności rzędu $10^{-15}$ i $10^{-33}$ dla wszystkich 3 przedziałów\n",
    "* Aby osiągnąć dokładność rzędu $10^{-7}$, potrzeba 24 iteracje dla przedziałów długości $\\frac{\\pi}{2}$ (pierwszy i drugi) i 25 iteracji dla długości 2 (trzeci)\n",
    "* Zgodnie z oczekiwanym wynikiem ze wzoru $n=\\Big\\lceil\\frac{log\\frac{b-a}{e}}{log2}\\Big\\rceil$\n",
    "\n",
    "Jak obliczyć k pierwszych dodatnich pierwiastków funkcji $f_1(x)$?\\\n",
    "Nie ma jakiegoś prostego sposobu, działającego dla ogólności - jeżeli dowolnym sposobem znaleźliśmy pierwiastek x, który z lewej strony zbiega z tym samym znakiem co jest f(0), to nie możemy mieć pewności że jest to pierwszy pierwiastek, a nie ma jeszcze min 2 innych w tym przedziale. Dodatkowo jeśli będą 3 pierwiastki bardzo blisko siebie, to musielibyśmy \"w ciemno\" (bez założenia różnych znaków na końcach przedziałów) dzielić przedziały rekurencyjnie.\\\n",
    "Jeżeli mniej więcej znamy wygląd i tym samym położenia pierwiastków (umiemy dostarczyć do funkcji bisect kolejne przedziały o różnych znakach i w których znajduje się tylko jeden pierwiastek [lub z innych powodów możemy założyć że natrafimy na pierwszy z nich]) funkcji, to wystarczy prosto przeiterować po kolejnych przedziałach, za lewy koniec możemy uznać poprzedni pierwiastek + dowolny epsilon, który nam zagwarantuje, że funkcja się nie wyzeruje na samym starcie."
   ]
  },
  {
   "cell_type": "code",
   "execution_count": 7,
   "metadata": {},
   "outputs": [],
   "source": [
    "import matplotlib.pyplot as plt\n",
    "import numpy as np"
   ]
  },
  {
   "cell_type": "code",
   "execution_count": 8,
   "metadata": {},
   "outputs": [
    {
     "data": {
      "image/png": "[encoded data removed]",
      "text/plain": [
       "<Figure size 432x288 with 1 Axes>"
      ]
     },
     "metadata": {
      "needs_background": "light"
     },
     "output_type": "display_data"
    }
   ],
   "source": [
    "tmp = lambda x: np.cos(x)*np.cosh(x)-1\n",
    "plt.plot(np.linspace(0, 30, 1000), tmp(np.linspace(0, 30, 1000)))\n",
    "plt.ylim(-100, 100)\n",
    "plt.show()"
   ]
  },
  {
   "cell_type": "markdown",
   "metadata": {},
   "source": [
    "Jak widać na wykresie pierwiestki funkcji $f_1$ są dosyć gęsto, więć krok nie może być za duży, ale na tyle rzadko że skok długości 1 nie obejmie nam dwóch na raz."
   ]
  },
  {
   "cell_type": "code",
   "execution_count": 9,
   "metadata": {},
   "outputs": [],
   "source": [
    "def firstk(f, k, prec, err):\n",
    "    left=mp.mpf(1)/1000\n",
    "    right=mp.mpf(1)\n",
    "    res=[]\n",
    "    L=mp.sign(f(left))\n",
    "    for i in range(k+1):\n",
    "        while L*mp.sign(f(right))>0:\n",
    "            right+=1\n",
    "        x,_,_ = bisect(f, [left, right], prec, err)\n",
    "        left=x+0.5\n",
    "        L=mp.sign(f(left))\n",
    "        right=left+1\n",
    "        res+=[x]\n",
    "    return res"
   ]
  },
  {
   "cell_type": "code",
   "execution_count": 10,
   "metadata": {},
   "outputs": [
    {
     "name": "stdout",
     "output_type": "stream",
     "text": [
      "4.7300407448627040260240481008338854996322955823734\n",
      "7.8532046240958375564770666872540502216065102673447\n",
      "10.995607838001670906669032519105892281243079076115\n",
      "14.137165491257464177105917855093330846691371520734\n",
      "17.27875965739948143809107397576864421675968334212\n",
      "20.42035224562606109093641118931307996112694750027\n",
      "23.561944902040455075392016800641498019532607314365\n",
      "26.703537555508186248419407645758571926898477642225\n",
      "29.845130209103254267001493279394245691416699508482\n",
      "32.986722862692819561547196864837562803016929000385\n",
      "36.128315516282622650359635610779787176021001274221\n"
     ]
    }
   ],
   "source": [
    "print(*firstk(f1, 10, 50, 1e-33), sep=\"\\n\")"
   ]
  },
  {
   "cell_type": "markdown",
   "metadata": {},
   "source": [
    "# 2. Newton's"
   ]
  },
  {
   "cell_type": "markdown",
   "metadata": {},
   "source": [
    "##### We assume the function f is differentiable $\\implies$ f has definite slop at each point and hence a unique tangent line.\n",
    "Thanks to that assumption we can approximate f near $x_0$ by $l(x)=f'(x_0)(x-x_0)+f(x_0)$, and we approximate the actual root of our main function f by the root of the fuction l.\n",
    "To simplify, we iterate following the formula $x_n=x_{n-1}-\\frac{f(x_{n-1})}{f'(x_{n-1})}$"
   ]
  },
  {
   "cell_type": "code",
   "execution_count": 11,
   "metadata": {},
   "outputs": [],
   "source": [
    "def newton(f, fp, x, itmax, eps):\n",
    "    cnt=0\n",
    "    x+=eps\n",
    "    while cnt<itmax:\n",
    "        if f(x)==0:\n",
    "            return x, f(x), cnt\n",
    "        cnt+=1\n",
    "        d=f(x)/fp(x)\n",
    "        x=x-d\n",
    "        if abs(d)<eps:\n",
    "            return x, f(x), cnt\n",
    "    return x, f(x), cnt"
   ]
  },
  {
   "cell_type": "code",
   "execution_count": 12,
   "metadata": {},
   "outputs": [],
   "source": [
    "def fp1(x): return mp.cos(x)*mp.sinh(x)-mp.sin(x)*mp.cosh(x)\n",
    "def fp2(x): return -1/x**2-mp.sec(x)**2\n",
    "def fp3(x): return -mp.log(2)*2**(-x)+mp.e**x-2*mp.sin(x)"
   ]
  },
  {
   "cell_type": "code",
   "execution_count": 13,
   "metadata": {
    "scrolled": true
   },
   "outputs": [
    {
     "name": "stdout",
     "output_type": "stream",
     "text": [
      "(mpf('4.7300407448627131638218844213114841266199262645848554'), mpf('0.00000000000052675311234644203483095846230474775697498593089181398'), 3)\n",
      "(mpf('4.7300407448627040260240481058600976229330475030939829'), mpf('2.8973865309107579889766642858832737882498068744601838e-25'), 7)\n"
     ]
    }
   ],
   "source": [
    "print(newton(f1, fp1, x1[0], 30, 1e-7))\n",
    "print(newton(f1, fp1, x1[1], 30, 1e-7))"
   ]
  },
  {
   "cell_type": "code",
   "execution_count": 14,
   "metadata": {},
   "outputs": [],
   "source": [
    "def testne(f, fp, r):\n",
    "    x, y, c = newton(f, fp, r[0], 30, 1e-7)\n",
    "    print(f\"\\nx={x}\\ny={y}\\niterations={c}\\n\")\n",
    "    x, y, c = newton(f, fp, r[1], 30, 1e-7)\n",
    "    print(f\"\\nx={x}\\ny={y}\\niterations={c}\\n\")\n",
    "    x, y, c = newton(f, fp, r[0], 70, 1e-15)\n",
    "    print(f\"x={x}\\ny={y}\\niterations={c}\\n\")\n",
    "    x, y, c = newton(f, fp, r[1], 70, 1e-15)\n",
    "    print(f\"x={x}\\ny={y}\\niterations={c}\\n\")\n",
    "    x, y, c = newton(f, fp, r[0], 150, 1e-33)\n",
    "    print(f\"x={x}\\ny={y}\\niterations={c}\\n\")\n",
    "    x, y, c = newton(f, fp, r[1], 150, 1e-33)\n",
    "    print(f\"x={x}\\ny={y}\\niterations={c}\\n\\n\\n\")"
   ]
  },
  {
   "cell_type": "code",
   "execution_count": 15,
   "metadata": {},
   "outputs": [
    {
     "name": "stdout",
     "output_type": "stream",
     "text": [
      "\n",
      "x=4.7300407448627131638218844213114841266199262645849\n",
      "y=0.00000000000052675311234644203483095846230474775697498593089181\n",
      "iterations=3\n",
      "\n",
      "\n",
      "x=4.730040744862704026024048105860097622933047503094\n",
      "y=2.8973865309107579889766642858832737882498068744602e-25\n",
      "iterations=7\n",
      "\n",
      "x=4.7300407448627040260240481008338848198983418007068\n",
      "y=2.138211768073756516912429173721185503052157504084e-50\n",
      "iterations=5\n",
      "\n",
      "x=4.7300407448627040260240481008338848198983418007068\n",
      "y=2.138211768073756516912429173721185503052157504084e-50\n",
      "iterations=8\n",
      "\n",
      "x=4.7300407448627040260240481008338848198983418007068\n",
      "y=2.138211768073756516912429173721185503052157504084e-50\n",
      "iterations=6\n",
      "\n",
      "x=4.7300407448627040260240481008338848198983418007068\n",
      "y=2.138211768073756516912429173721185503052157504084e-50\n",
      "iterations=9\n",
      "\n",
      "\n",
      "\n",
      "\n",
      "x=0.00000019999999999999799094962236518418991511849914566537\n",
      "y=4999999.9999998502262594408702421712604900377671375\n",
      "iterations=1\n",
      "\n",
      "\n",
      "x=3.4256184594817281464777507093192459519081589669899\n",
      "y=-4.3127077145520809323377170811695650818871691003145e-23\n",
      "iterations=28\n",
      "\n",
      "x=0.0000000000000020000000000000001554107997533201584766143712019238\n",
      "y=499999999999999.96114730006166796339991099219518553\n",
      "iterations=1\n",
      "\n",
      "x=1.5707963267948984967666417769051501735692905976634\n",
      "y=532613149431770.86155704583604433265542721392590939\n",
      "iterations=1\n",
      "\n",
      "x=0.86033358901937976248389342413766233341188436323765\n",
      "y=0.0\n",
      "iterations=116\n",
      "\n",
      "x=0.86033358901937976248389342413766233341188436323765\n",
      "y=0.0\n",
      "iterations=60\n",
      "\n",
      "\n",
      "\n",
      "\n",
      "x=1.8293836019338488174168645158662010479572998017766\n",
      "y=1.1510923537264340771963062256934372869906305332351e-18\n",
      "iterations=8\n",
      "\n",
      "\n",
      "x=1.8293836019338488171362129468804375228645850869282\n",
      "y=2.7187501613492063664015689874740544645256750733404e-28\n",
      "iterations=7\n",
      "\n",
      "x=1.8293836019338488171362129468141507913601200349677\n",
      "y=2.7083443613046443665008349381699580015792576737123e-37\n",
      "iterations=9\n",
      "\n",
      "x=1.8293836019338488171362129468141507912940870105911\n",
      "y=0.0\n",
      "iterations=8\n",
      "\n",
      "x=1.8293836019338488171362129468141507912940870105911\n",
      "y=0.0\n",
      "iterations=10\n",
      "\n",
      "x=1.8293836019338488171362129468141507912940870105911\n",
      "y=0.0\n",
      "iterations=8\n",
      "\n",
      "\n",
      "\n"
     ]
    }
   ],
   "source": [
    "testne(f1, fp1, x1)\n",
    "testne(f2, fp2, x2)\n",
    "testne(f3, fp3, x3)"
   ]
  },
  {
   "cell_type": "markdown",
   "metadata": {},
   "source": [
    "Metoda ta znajduje pierwiastek zazwyczaj znacznie szybciej oraz dokładniej niż metoda bisekcji i nie wymaga podania przedziału na końcu którego funkcja przyjmuje wartości o różnych znakach. Dodatkowo umożliwa rozwiązanie układu wielu równań (traktujemy je macierzowo).\n",
    "\n",
    "Ma natomiast kilka problemów, głównym na pewno jest fakt, że wymaga podania pochodnej funkcji. Znaczna większość pozostałych skupia się na funkcji jaką badamy - jest sporo przypadków, które w pesymistycznym wariancie nie zwrócą nam poprawnego wyniku, nawet przybliżonego (np. jeśli trafimy na miejsce w którym funkcja jest stała, lub jak w naszym przypadku funkcja 2 - dzielimy sporą wartość funkcji przez dużo większą pochodną i wartość ta jest za mała w porównaniu do wprowadzanego $\\epsilon$ [nie licząc przypadku z $\\epsilon=10^{-33}$])."
   ]
  },
  {
   "cell_type": "markdown",
   "metadata": {},
   "source": [
    "###### Porównanie zbieżności"
   ]
  },
  {
   "cell_type": "code",
   "execution_count": 16,
   "metadata": {},
   "outputs": [],
   "source": [
    "def compBN(f, fp, r):\n",
    "    x, y, c = bisect(f, r, 50, 1e-7)\n",
    "    print(f\"Bisect:\\nx={x}\\ny={y}\\niterations={c}\\n\")\n",
    "    x, y, c = newton(f, fp, r[0], 30, 1e-7)\n",
    "    print(f\"Newton:\\nx={x}\\ny={y}\\niterations={c}\\n\\n\")\n",
    "    \n",
    "    x, y, c = bisect(f, r, 50, 1e-15)\n",
    "    print(f\"Bisect:\\nx={x}\\ny={y}\\niterations={c}\\n\")\n",
    "    x, y, c = newton(f, fp, r[0], 70, 1e-15)\n",
    "    print(f\"Newton:\\nx={x}\\ny={y}\\niterations={c}\\n\\n\")\n",
    "    \n",
    "    x, y, c = bisect(f, r, 50, 1e-33)\n",
    "    print(f\"Bisect:\\nx={x}\\ny={y}\\niterations={c}\\n\")\n",
    "    x, y, c = newton(f, fp, r[0], 150, 1e-33)\n",
    "    print(f\"Newton:\\nx={x}\\ny={y}\\niterations={c}\\n\\n\\n\")"
   ]
  },
  {
   "cell_type": "code",
   "execution_count": 17,
   "metadata": {
    "scrolled": false
   },
   "outputs": [
    {
     "name": "stdout",
     "output_type": "stream",
     "text": [
      "Bisect:\n",
      "x=4.7300407137759520999423000235033047455868171482507\n",
      "y=-0.0000017920119401830848929701778868802834431469753721587\n",
      "iterations=24\n",
      "\n",
      "Newton:\n",
      "x=4.7300407448627131638218844213114841266199262645849\n",
      "y=0.00000000000052675311234644203483095846230474775697498593089181\n",
      "iterations=3\n",
      "\n",
      "\n",
      "Bisect:\n",
      "x=4.7300407448627038796742889969950499964630621242801\n",
      "y=-0.0000000000000084364080361555027450488128545438322166703572745291\n",
      "iterations=51\n",
      "\n",
      "Newton:\n",
      "x=4.7300407448627040260240481008338848198983418007068\n",
      "y=2.138211768073756516912429173721185503052157504084e-50\n",
      "iterations=5\n",
      "\n",
      "\n",
      "Bisect:\n",
      "x=4.7300407448627040260240481008338849513259148099913\n",
      "y=7.576210851985323587082223084674072511794124918112e-33\n",
      "iterations=111\n",
      "\n",
      "Newton:\n",
      "x=4.7300407448627040260240481008338848198983418007068\n",
      "y=2.138211768073756516912429173721185503052157504084e-50\n",
      "iterations=6\n",
      "\n",
      "\n",
      "\n"
     ]
    }
   ],
   "source": [
    "compBN(f1, fp1, x1)"
   ]
  },
  {
   "cell_type": "code",
   "execution_count": 18,
   "metadata": {},
   "outputs": [
    {
     "name": "stdout",
     "output_type": "stream",
     "text": [
      "Bisect:\n",
      "x=0.86033360079820915576532047078100127318324823021766\n",
      "y=-0.000000043606024870710021459546712727671670869217332213966\n",
      "iterations=24\n",
      "\n",
      "Newton:\n",
      "x=0.00000019999999999999799094962236518418991511849914566537\n",
      "y=4999999.9999998502262594408702421712604900377671375\n",
      "iterations=1\n",
      "\n",
      "\n",
      "Bisect:\n",
      "x=0.86033358901937996089029589836246357903842645143713\n",
      "y=-7.3451394870684062873001110382373052764893438979405e-16\n",
      "iterations=51\n",
      "\n",
      "Newton:\n",
      "x=0.0000000000000020000000000000001554107997533201584766143712019238\n",
      "y=499999999999999.96114730006166796339991099219518553\n",
      "iterations=1\n",
      "\n",
      "\n",
      "Bisect:\n",
      "x=0.86033358901937976248389342413766226661673961349168\n",
      "y=2.4728015282145241248712213871326454879640714289617e-34\n",
      "iterations=111\n",
      "\n",
      "Newton:\n",
      "x=0.86033358901937976248389342413766233341188436323765\n",
      "y=0.0\n",
      "iterations=116\n",
      "\n",
      "\n",
      "\n"
     ]
    }
   ],
   "source": [
    "compBN(f2, fp2, x2)"
   ]
  },
  {
   "cell_type": "code",
   "execution_count": 19,
   "metadata": {},
   "outputs": [
    {
     "name": "stdout",
     "output_type": "stream",
     "text": [
      "Bisect:\n",
      "x=1.829383552074432373046875\n",
      "y=-0.0000002044983779175721029939109828989162196010120972086\n",
      "iterations=25\n",
      "\n",
      "Newton:\n",
      "x=1.8293836019338488174168645158662010479572998017766\n",
      "y=1.1510923537264340771963062256934372869906305332351e-18\n",
      "iterations=8\n",
      "\n",
      "\n",
      "Bisect:\n",
      "x=1.8293836019338494125463512318674474954605102539063\n",
      "y=0.0000000000000024420745617994864393378449719380223188354860243789\n",
      "iterations=51\n",
      "\n",
      "Newton:\n",
      "x=1.8293836019338488171362129468141507913601200349677\n",
      "y=2.7083443613046443665008349381699580015792576737123e-37\n",
      "iterations=9\n",
      "\n",
      "\n",
      "Bisect:\n",
      "x=1.8293836019338488171362129468141510034535686810466\n",
      "y=8.7017207117816697564041113497366994427287187510743e-34\n",
      "iterations=111\n",
      "\n",
      "Newton:\n",
      "x=1.8293836019338488171362129468141507912940870105911\n",
      "y=0.0\n",
      "iterations=10\n",
      "\n",
      "\n",
      "\n"
     ]
    }
   ],
   "source": [
    "compBN(f3, fp3, x3)"
   ]
  },
  {
   "cell_type": "markdown",
   "metadata": {},
   "source": [
    "Jak widać metoda Newtona zazwyczaj zbiega do 0 znacznie lepiej i zazwyczaj wymaga dużo mniej iteracji niż metoda bisekcji, jednak bisekcja zawsze gwarantuje sensowne rozwiązanie, podczas gdy metoda Newtona czasami daje odległe od oczekiwanych wyniki (funkcja 2 i oba przypadki poza $\\epsilon=10^{-33}$)."
   ]
  },
  {
   "cell_type": "markdown",
   "metadata": {},
   "source": [
    "# 3. Secant's"
   ]
  },
  {
   "cell_type": "markdown",
   "metadata": {},
   "source": [
    "##### Similar to Newton's but doesn't require providing the derviative $\\implies$ we approximate the vaule of derivative at point using $f'(x)=\\lim_{h\\to0}\\frac{f(x+h)-f(x)}{h}$\n"
   ]
  },
  {
   "cell_type": "code",
   "execution_count": 20,
   "metadata": {},
   "outputs": [],
   "source": [
    "def secant(f, x, itmax, eps):\n",
    "    cnt=0\n",
    "    x+=eps\n",
    "    while cnt<itmax:\n",
    "        if f(x)==0:\n",
    "            return x, f(x), cnt\n",
    "        cnt+=1\n",
    "        d=f(x)/mp.diff(f, x)\n",
    "        x=x-d\n",
    "        if abs(d)<eps:\n",
    "            return x, f(x), cnt\n",
    "    return x, f(x), cnt"
   ]
  },
  {
   "cell_type": "code",
   "execution_count": 21,
   "metadata": {},
   "outputs": [
    {
     "name": "stdout",
     "output_type": "stream",
     "text": [
      "(mpf('4.7300407448627131638218844213114841266199262645848554'), mpf('0.00000000000052675311234644203483095846230474775697498593089181398'), 3)\n",
      "(mpf('4.7300407448627040260240481058600976229330475030939829'), mpf('2.8973865309107579889766642858832737882498068744601838e-25'), 7)\n"
     ]
    }
   ],
   "source": [
    "print(newton(f1, fp1, x1[0], 30, 1e-7))\n",
    "print(newton(f1, fp1, x1[1], 30, 1e-7))"
   ]
  },
  {
   "cell_type": "code",
   "execution_count": 22,
   "metadata": {},
   "outputs": [],
   "source": [
    "def testne(f, r):\n",
    "    x, y, c = secant(f, r[0], 30, 1e-7)\n",
    "    print(f\"\\nx={x}\\ny={y}\\niterations={c}\\n\")\n",
    "    x, y, c = secant(f, r[1], 30, 1e-7)\n",
    "    print(f\"\\nx={x}\\ny={y}\\niterations={c}\\n\")\n",
    "    x, y, c = secant(f, r[0], 70, 1e-15)\n",
    "    print(f\"x={x}\\ny={y}\\niterations={c}\\n\")\n",
    "    x, y, c = secant(f, r[1], 70, 1e-15)\n",
    "    print(f\"x={x}\\ny={y}\\niterations={c}\\n\")\n",
    "    x, y, c = secant(f, r[0], 150, 1e-33)\n",
    "    print(f\"x={x}\\ny={y}\\niterations={c}\\n\")\n",
    "    x, y, c = secant(f, r[1], 150, 1e-33)\n",
    "    print(f\"x={x}\\ny={y}\\niterations={c}\\n\\n\\n\")"
   ]
  },
  {
   "cell_type": "code",
   "execution_count": 23,
   "metadata": {},
   "outputs": [
    {
     "name": "stdout",
     "output_type": "stream",
     "text": [
      "\n",
      "x=4.7300407448627131638218844213114841266199262645849\n",
      "y=0.00000000000052675311234644203483095846230474775697498593089181\n",
      "iterations=3\n",
      "\n",
      "\n",
      "x=4.730040744862704026024048105860097622933047503094\n",
      "y=2.8973865309107579889766642858832737882498068744602e-25\n",
      "iterations=7\n",
      "\n",
      "x=4.7300407448627040260240481008338848198983418007068\n",
      "y=2.138211768073756516912429173721185503052157504084e-50\n",
      "iterations=5\n",
      "\n",
      "x=4.7300407448627040260240481008338848198983418007068\n",
      "y=2.138211768073756516912429173721185503052157504084e-50\n",
      "iterations=8\n",
      "\n",
      "x=4.7300407448627040260240481008338848198983418007068\n",
      "y=2.138211768073756516912429173721185503052157504084e-50\n",
      "iterations=6\n",
      "\n",
      "x=4.7300407448627040260240481008338848198983418007068\n",
      "y=2.138211768073756516912429173721185503052157504084e-50\n",
      "iterations=9\n",
      "\n",
      "\n",
      "\n",
      "\n",
      "x=0.00000019999999999999799094962236518418991511849914566537\n",
      "y=4999999.9999998502262594408702421712604900377671375\n",
      "iterations=1\n",
      "\n",
      "\n",
      "x=3.4256184594817281464777507093192459519081589669899\n",
      "y=-4.3127077145520809323377170811695650818871691003145e-23\n",
      "iterations=28\n",
      "\n",
      "x=0.0000000000000020000000000000001554107997533201584766143712019238\n",
      "y=499999999999999.96114730006166796339991099219518553\n",
      "iterations=1\n",
      "\n",
      "x=1.5707963267948984967666417769051501735692905976634\n",
      "y=532613149431770.86155704583604433265542721392590939\n",
      "iterations=1\n",
      "\n",
      "x=2.000000000000000111934619952483803868904483503291e-33\n",
      "y=499999999999999972016345011879050.59894377211255032\n",
      "iterations=1\n",
      "\n",
      "x=0.86033358901937976248389342413766233341188436323765\n",
      "y=0.0\n",
      "iterations=60\n",
      "\n",
      "\n",
      "\n",
      "\n",
      "x=1.8293836019338488174168645158662010479572998017766\n",
      "y=1.1510923537264340771963062256934372869906305332351e-18\n",
      "iterations=8\n",
      "\n",
      "\n",
      "x=1.8293836019338488171362129468804375228645850869282\n",
      "y=2.7187501613492063664015689874740544645256750733404e-28\n",
      "iterations=7\n",
      "\n",
      "x=1.8293836019338488171362129468141507913601200349677\n",
      "y=2.7083443613046443665008349381699580015792576737123e-37\n",
      "iterations=9\n",
      "\n",
      "x=1.8293836019338488171362129468141507912940870105911\n",
      "y=0.0\n",
      "iterations=8\n",
      "\n",
      "x=1.8293836019338488171362129468141507912940870105911\n",
      "y=0.0\n",
      "iterations=10\n",
      "\n",
      "x=1.8293836019338488171362129468141507912940870105911\n",
      "y=0.0\n",
      "iterations=8\n",
      "\n",
      "\n",
      "\n"
     ]
    }
   ],
   "source": [
    "testne(f1, x1)\n",
    "testne(f2, x2)\n",
    "testne(f3, x3)"
   ]
  },
  {
   "cell_type": "markdown",
   "metadata": {},
   "source": [
    "Metoda siecznych działa bardzo podobnie jak metoda Newtona, więc ma podobne wady i zalety. Jedyną różnicą jest to, że nie musimy dostarczyć funkcji pochodnej, funkcji badanej, tylko wyliczamy przybliżoną wartość pochodnej w punkcie (w związku z czym wystarczy, że nasza funkcja jest różniczkowalna w pukntach badanych - oznacza to że w miarę bezpiecznie można badać funkcje nie mające pochodnej w skończonej [i stosunkowo małej] liczbie punktów)."
   ]
  },
  {
   "cell_type": "markdown",
   "metadata": {},
   "source": [
    "Zbieżności:"
   ]
  },
  {
   "cell_type": "code",
   "execution_count": 24,
   "metadata": {},
   "outputs": [],
   "source": [
    "def compBNS(f, fp, r):\n",
    "    x, y, c = bisect(f, r, 50, 1e-7)\n",
    "    print(f\"Bisect:\\nx={x}\\ny={y}\\niterations={c}\\n\")\n",
    "    x, y, c = newton(f, fp, r[0], 30, 1e-7)\n",
    "    print(f\"Newton:\\nx={x}\\ny={y}\\niterations={c}\\n\")\n",
    "    x, y, c = secant(f, r[0], 30, 1e-7)\n",
    "    print(f\"Secant:\\nx={x}\\ny={y}\\niterations={c}\\n\\n\")\n",
    "    \n",
    "    x, y, c = bisect(f, r, 50, 1e-15)\n",
    "    print(f\"Bisect:\\nx={x}\\ny={y}\\niterations={c}\\n\")\n",
    "    x, y, c = newton(f, fp, r[0], 70, 1e-15)\n",
    "    print(f\"Newton:\\nx={x}\\ny={y}\\niterations={c}\\n\\n\")\n",
    "    x, y, c = secant(f, r[0], 70, 1e-15)\n",
    "    print(f\"Secant:\\nx={x}\\ny={y}\\niterations={c}\\n\\n\")\n",
    "    \n",
    "    x, y, c = bisect(f, r, 50, 1e-33)\n",
    "    print(f\"Bisect:\\nx={x}\\ny={y}\\niterations={c}\\n\")\n",
    "    x, y, c = newton(f, fp, r[0], 150, 1e-33)\n",
    "    print(f\"Newton:\\nx={x}\\ny={y}\\niterations={c}\\n\")\n",
    "    x, y, c = secant(f, r[0], 150, 1e-33)\n",
    "    print(f\"Secant:\\nx={x}\\ny={y}\\niterations={c}\\n\\n\\n\")"
   ]
  },
  {
   "cell_type": "code",
   "execution_count": 25,
   "metadata": {},
   "outputs": [
    {
     "name": "stdout",
     "output_type": "stream",
     "text": [
      "Bisect:\n",
      "x=4.7300407137759520999423000235033047455868171482507\n",
      "y=-0.0000017920119401830848929701778868802834431469753721587\n",
      "iterations=24\n",
      "\n",
      "Newton:\n",
      "x=4.7300407448627131638218844213114841266199262645849\n",
      "y=0.00000000000052675311234644203483095846230474775697498593089181\n",
      "iterations=3\n",
      "\n",
      "Secant:\n",
      "x=4.7300407448627131638218844213114841266199262645849\n",
      "y=0.00000000000052675311234644203483095846230474775697498593089181\n",
      "iterations=3\n",
      "\n",
      "\n",
      "Bisect:\n",
      "x=4.7300407448627038796742889969950499964630621242801\n",
      "y=-0.0000000000000084364080361555027450488128545438322166703572745291\n",
      "iterations=51\n",
      "\n",
      "Newton:\n",
      "x=4.7300407448627040260240481008338848198983418007068\n",
      "y=2.138211768073756516912429173721185503052157504084e-50\n",
      "iterations=5\n",
      "\n",
      "\n",
      "Secant:\n",
      "x=4.7300407448627040260240481008338848198983418007068\n",
      "y=2.138211768073756516912429173721185503052157504084e-50\n",
      "iterations=5\n",
      "\n",
      "\n",
      "Bisect:\n",
      "x=4.7300407448627040260240481008338849513259148099913\n",
      "y=7.576210851985323587082223084674072511794124918112e-33\n",
      "iterations=111\n",
      "\n",
      "Newton:\n",
      "x=4.7300407448627040260240481008338848198983418007068\n",
      "y=2.138211768073756516912429173721185503052157504084e-50\n",
      "iterations=6\n",
      "\n",
      "Secant:\n",
      "x=4.7300407448627040260240481008338848198983418007068\n",
      "y=2.138211768073756516912429173721185503052157504084e-50\n",
      "iterations=6\n",
      "\n",
      "\n",
      "\n"
     ]
    }
   ],
   "source": [
    "compBNS(f1, fp1, x1)"
   ]
  },
  {
   "cell_type": "code",
   "execution_count": 26,
   "metadata": {},
   "outputs": [
    {
     "name": "stdout",
     "output_type": "stream",
     "text": [
      "Bisect:\n",
      "x=0.86033360079820915576532047078100127318324823021766\n",
      "y=-0.000000043606024870710021459546712727671670869217332213966\n",
      "iterations=24\n",
      "\n",
      "Newton:\n",
      "x=0.00000019999999999999799094962236518418991511849914566537\n",
      "y=4999999.9999998502262594408702421712604900377671375\n",
      "iterations=1\n",
      "\n",
      "Secant:\n",
      "x=0.00000019999999999999799094962236518418991511849914566537\n",
      "y=4999999.9999998502262594408702421712604900377671375\n",
      "iterations=1\n",
      "\n",
      "\n",
      "Bisect:\n",
      "x=0.86033358901937996089029589836246357903842645143713\n",
      "y=-7.3451394870684062873001110382373052764893438979405e-16\n",
      "iterations=51\n",
      "\n",
      "Newton:\n",
      "x=0.0000000000000020000000000000001554107997533201584766143712019238\n",
      "y=499999999999999.96114730006166796339991099219518553\n",
      "iterations=1\n",
      "\n",
      "\n",
      "Secant:\n",
      "x=0.0000000000000020000000000000001554107997533201584766143712019238\n",
      "y=499999999999999.96114730006166796339991099219518553\n",
      "iterations=1\n",
      "\n",
      "\n",
      "Bisect:\n",
      "x=0.86033358901937976248389342413766226661673961349168\n",
      "y=2.4728015282145241248712213871326454879640714289617e-34\n",
      "iterations=111\n",
      "\n",
      "Newton:\n",
      "x=0.86033358901937976248389342413766233341188436323765\n",
      "y=0.0\n",
      "iterations=116\n",
      "\n",
      "Secant:\n",
      "x=2.000000000000000111934619952483803868904483503291e-33\n",
      "y=499999999999999972016345011879050.59894377211255032\n",
      "iterations=1\n",
      "\n",
      "\n",
      "\n"
     ]
    }
   ],
   "source": [
    "compBNS(f2, fp2, x2)"
   ]
  },
  {
   "cell_type": "code",
   "execution_count": 27,
   "metadata": {},
   "outputs": [
    {
     "name": "stdout",
     "output_type": "stream",
     "text": [
      "Bisect:\n",
      "x=1.829383552074432373046875\n",
      "y=-0.0000002044983779175721029939109828989162196010120972086\n",
      "iterations=25\n",
      "\n",
      "Newton:\n",
      "x=1.8293836019338488174168645158662010479572998017766\n",
      "y=1.1510923537264340771963062256934372869906305332351e-18\n",
      "iterations=8\n",
      "\n",
      "Secant:\n",
      "x=1.8293836019338488174168645158662010479572998017766\n",
      "y=1.1510923537264340771963062256934372869906305332351e-18\n",
      "iterations=8\n",
      "\n",
      "\n",
      "Bisect:\n",
      "x=1.8293836019338494125463512318674474954605102539063\n",
      "y=0.0000000000000024420745617994864393378449719380223188354860243789\n",
      "iterations=51\n",
      "\n",
      "Newton:\n",
      "x=1.8293836019338488171362129468141507913601200349677\n",
      "y=2.7083443613046443665008349381699580015792576737123e-37\n",
      "iterations=9\n",
      "\n",
      "\n",
      "Secant:\n",
      "x=1.8293836019338488171362129468141507913601200349677\n",
      "y=2.7083443613046443665008349381699580015792576737123e-37\n",
      "iterations=9\n",
      "\n",
      "\n",
      "Bisect:\n",
      "x=1.8293836019338488171362129468141510034535686810466\n",
      "y=8.7017207117816697564041113497366994427287187510743e-34\n",
      "iterations=111\n",
      "\n",
      "Newton:\n",
      "x=1.8293836019338488171362129468141507912940870105911\n",
      "y=0.0\n",
      "iterations=10\n",
      "\n",
      "Secant:\n",
      "x=1.8293836019338488171362129468141507912940870105911\n",
      "y=0.0\n",
      "iterations=10\n",
      "\n",
      "\n",
      "\n"
     ]
    }
   ],
   "source": [
    "compBNS(f3, fp3, x3)"
   ]
  },
  {
   "cell_type": "markdown",
   "metadata": {},
   "source": [
    "Metoda siecznych zbiega praktycznie tak samo jak metoda Newtona, lecz przez przybliżenie pochodnej jest mniej dokładna, więc dla funkcji 2 już nawet dokładność $\\epsilon=10^{-33}$ nie starcza i metoda zwraca zły wynik.\\\n",
    "Dla wszystkich pozostałych zwraca dokładnie te same wyniki w dokładnie tej samej liczbie iteracji jak metoda Newtona. Porównanie do metody bisekcji jest dokładnie takie samo jak dla metody Newtona(poza jedynym przypadkiem wcześniej wymienionym)."
   ]
  }
 ],
 "metadata": {
  "kernelspec": {
   "display_name": "Python 3",
   "language": "python",
   "name": "python3"
  },
  "language_info": {
   "codemirror_mode": {
    "name": "ipython",
    "version": 3
   },
   "file_extension": ".py",
   "mimetype": "text/x-python",
   "name": "python",
   "nbconvert_exporter": "python",
   "pygments_lexer": "ipython3",
   "version": "3.7.4"
  }
 },
 "nbformat": 4,
 "nbformat_minor": 2
}
