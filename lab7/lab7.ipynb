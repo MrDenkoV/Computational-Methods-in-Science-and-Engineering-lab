{
 "cells": [
  {
   "cell_type": "markdown",
   "metadata": {},
   "source": [
    "# Lab 7\n",
    "###### Dekompozycja spektralna"
   ]
  },
  {
   "cell_type": "code",
   "execution_count": 1,
   "metadata": {},
   "outputs": [],
   "source": [
    "import numpy as np # np.linalg.eig\n",
    "import time\n",
    "import matplotlib.pyplot as plt\n",
    "import scipy.linalg as scplin"
   ]
  },
  {
   "cell_type": "markdown",
   "metadata": {},
   "source": [
    "### 1. Metoda potęgowa\n",
    "Napisz funkcję obliczającą metodą potęgową dominującą wartość własną (największą co\n",
    "do modułu) i odpowiadający jej wektor własny dla danej macierzy rzeczywistej symetrycznej. Sprawdź poprawność działania programu porównując własną implementację\n",
    "z wynikami funkcji bibliotecznej. Przedstaw na wykresie zależność czasu obliczeń od\n",
    "rozmiaru macierzy (rozmiary macierzy 100x100, 500x500, ...)\n",
    "* Powtarzaj mnożenie wektora xi przez macierz A: $x_{i+1} = Ax_i$ , dzieląc za każdym razem wektor wynikowy przez $||x_{i+1}||_∞$\n",
    "* Element wektora $x_i$ o największej wartości bezwzględnej zbiega do dominującej wartości własnej\n",
    "* Przeskalowany wektor $x_i$ zbiega do dominującego wektora własnego\n",
    "* Obliczenia powinny się zatrzymać po przekroczeniu maksymalnej liczby iteracji, albo w przypadku gdy $||x_i − x_{i+1}|| < \\epsilon$ (kryterium małej poprawki)\n",
    "* Pod koniec obliczeń znormalizuj otrzymany wektor własny."
   ]
  },
  {
   "cell_type": "code",
   "execution_count": 2,
   "metadata": {},
   "outputs": [],
   "source": [
    "def genmatrix(n, val=1):\n",
    "    M = np.random.uniform(-val, val, (n,n))\n",
    "    return np.tril(M) + np.tril(M, -1).T"
   ]
  },
  {
   "cell_type": "markdown",
   "metadata": {},
   "source": [
    "Generowanie losowej macierzy symetrycznej"
   ]
  },
  {
   "cell_type": "code",
   "execution_count": 3,
   "metadata": {},
   "outputs": [],
   "source": [
    "def power(M, eps=1e-10, st=1e4):\n",
    "    V = np.random.random_sample(M.shape[0])\n",
    "    cnt = 0\n",
    "    for i in range(int(st)):\n",
    "        nex = M @ V\n",
    "        normed = nex / np.linalg.norm(nex, ord=np.inf)\n",
    "        if np.linalg.norm(V - normed) < eps:\n",
    "            V = normed\n",
    "            break\n",
    "        V = normed\n",
    "        cnt+=1\n",
    "    return nex[np.argmax(abs(nex))], V/np.linalg.norm(V), cnt"
   ]
  },
  {
   "cell_type": "markdown",
   "metadata": {},
   "source": [
    "Funkcja rozwiązująca zadany problem - dla danej macierzy wykonuje metodę potęgową i wyznacza wartość oraz wektor własny macierzy."
   ]
  },
  {
   "cell_type": "code",
   "execution_count": 4,
   "metadata": {},
   "outputs": [],
   "source": [
    "def libeig(M):\n",
    "    val, vec = np.linalg.eig(M)\n",
    "    ix = np.argmax(abs(val))\n",
    "    return val[ix], vec[:,ix]"
   ]
  },
  {
   "cell_type": "markdown",
   "metadata": {},
   "source": [
    "Wykorzystanie funkcji eig z pakietu numpy.linalg do rozwiązania tego samego problemu"
   ]
  },
  {
   "cell_type": "code",
   "execution_count": 5,
   "metadata": {},
   "outputs": [],
   "source": [
    "def check(eps=1e-6):\n",
    "    po = []\n",
    "    lib = []\n",
    "    for i in range(100, 1001, 100):\n",
    "        M = genmatrix(i)\n",
    "        start = time.time()\n",
    "        w1,v1,cnt = power(M)\n",
    "        end = time.time()\n",
    "        po.append(end-start)\n",
    "        \n",
    "        start = time.time()\n",
    "        w2,v2 = libeig(M)\n",
    "        end = time.time()\n",
    "        lib.append(end-start)\n",
    "        \n",
    "        if v1[0]*v2[0]<0:\n",
    "            v2=-v2\n",
    "        \n",
    "        print(f\"Size {i}x{i}, values eq: {abs(abs(w2)-abs(w1))<eps}, vectors eq: {np.all(abs(v2-v1)<eps)},\",\n",
    "              f\"times: lib - {round(lib[-1], 8)}, power - {round(po[-1], 8)}, its - {cnt}\")\n",
    "    \n",
    "    plt.plot(np.linspace(100, 1000, 10), po, color=\"green\")\n",
    "    plt.plot(np.linspace(100, 1000, 10), lib, color=\"red\")\n",
    "    plt.show()"
   ]
  },
  {
   "cell_type": "code",
   "execution_count": 6,
   "metadata": {
    "scrolled": false
   },
   "outputs": [
    {
     "name": "stdout",
     "output_type": "stream",
     "text": [
      "Size 100x100, values eq: True, vectors eq: True, times: lib - 0.05190706, power - 1.03302503, its - 10000\n",
      "Size 200x200, values eq: True, vectors eq: True, times: lib - 0.07484341, power - 1.82344508, its - 10000\n",
      "Size 300x300, values eq: True, vectors eq: True, times: lib - 0.1684792, power - 0.91269946, its - 10000\n",
      "Size 400x400, values eq: True, vectors eq: True, times: lib - 0.30111408, power - 1.01666331, its - 10000\n",
      "Size 500x500, values eq: True, vectors eq: True, times: lib - 0.56102324, power - 1.28127527, its - 10000\n",
      "Size 600x600, values eq: True, vectors eq: True, times: lib - 0.86852503, power - 1.76625299, its - 10000\n",
      "Size 700x700, values eq: True, vectors eq: True, times: lib - 1.13364196, power - 2.32441092, its - 8943\n",
      "Size 800x800, values eq: True, vectors eq: True, times: lib - 1.50380754, power - 3.35230207, its - 10000\n",
      "Size 900x900, values eq: True, vectors eq: True, times: lib - 1.95849609, power - 5.0300734, its - 10000\n",
      "Size 1000x1000, values eq: True, vectors eq: True, times: lib - 2.42797923, power - 6.31448221, its - 10000\n"
     ]
    },
    {
     "data": {
      "image/png": "[encoded data removed]",
      "text/plain": [
       "<Figure size 432x288 with 1 Axes>"
      ]
     },
     "metadata": {
      "needs_background": "light"
     },
     "output_type": "display_data"
    }
   ],
   "source": [
    "check()"
   ]
  },
  {
   "cell_type": "markdown",
   "metadata": {},
   "source": [
    "Funkcja sprawdzająca poprawność i rysująca wykres zależności czasów od rozmiarów macierzy"
   ]
  },
  {
   "cell_type": "markdown",
   "metadata": {},
   "source": [
    "Jak widać funkcja zwraca podobne wartości, jednak często wykonuje się trochę dłużej, co prawdopodobnie jest spowodowane dokładnością wykonywanych obliczeń i związaną z nią maksymalną liczbą iteracji."
   ]
  },
  {
   "cell_type": "markdown",
   "metadata": {},
   "source": [
    "### 2. Odwrotna metoda potęgowa\n",
    "Opierająca się na twierdzeniu o transformacji widma maicerzy:\\\n",
    "Twierdzenie:\\\n",
    "Macierz $(A-\\sigma I)^{-1}$ (jeśli istnieje), to ma wartości właśne równe $1/(\\lambda_k-\\sigma)$ ($\\lambda_k$ jest k-tą wartością właśną macierzy A) i wektory własne identyczne z macierzą A.\\\n",
    "oraz wykorzystując metodę potęgową i faktoryzację LU zaimplementuj odwrotną metodę potęgową pozwalającą na szybkie znalezienie wektorów własnych macierzy A, dla wartości $\\sigma$ bliskich wartości właśnej. Wykorzystaj fakt, że mnożenie wektora $x_i$ przez macierz A^{-1} ($x_{i+1}=A^{-1}x_i$) odpowiada rozwiązaniu układu równań $Ax_{i+1}=x_i$"
   ]
  },
  {
   "cell_type": "code",
   "execution_count": 7,
   "metadata": {},
   "outputs": [],
   "source": [
    "def invpow(M, sig, eps=1e-10, st=1e3):\n",
    "    V = np.random.random_sample(M.shape[0])\n",
    "    P,L,U = scplin.lu(M-sig*np.identity(M.shape[0]))\n",
    "    for i in range(int(st)):\n",
    "        y = scplin.solve_triangular(L, P@V, lower=True)\n",
    "        nex = scplin.solve_triangular(U, y)\n",
    "        normed = nex/np.linalg.norm(nex, ord=np.inf)\n",
    "        if np.linalg.norm(normed-V) < eps:\n",
    "            V=normed\n",
    "            break\n",
    "        V=normed\n",
    "#     print(i)\n",
    "    return V/np.linalg.norm(V)"
   ]
  },
  {
   "cell_type": "markdown",
   "metadata": {},
   "source": [
    "Funkcja rozwiązująca zadany problem - dla danej macierzy wykonuje odwrotną metodę potęgową i wyznacza wektor własny macierzy."
   ]
  },
  {
   "cell_type": "code",
   "execution_count": 8,
   "metadata": {},
   "outputs": [],
   "source": [
    "def test(eps=1e-10):\n",
    "    lib = []\n",
    "    po = []\n",
    "    for i in range(100, 1001, 100):\n",
    "        M = genmatrix(i)\n",
    "        \n",
    "        start = time.time()\n",
    "        w2,v2 = libeig(M)\n",
    "        end = time.time()\n",
    "        lib.append(end-start)\n",
    "        \n",
    "        start = time.time()\n",
    "        v1 = invpow(M, w2)\n",
    "        end = time.time()\n",
    "        po.append(end-start)\n",
    "        \n",
    "        if v1[0]*v2[0]<0:\n",
    "            v2=-v2\n",
    "        \n",
    "        print(f\"Size {i}x{i}, vectors eq: {np.all(abs(v2-v1)<eps)},\",\n",
    "              f\"times: lib - {round(lib[-1], 8)}, invpower - {round(po[-1], 8)}\")"
   ]
  },
  {
   "cell_type": "code",
   "execution_count": 9,
   "metadata": {
    "scrolled": false
   },
   "outputs": [
    {
     "name": "stdout",
     "output_type": "stream",
     "text": [
      "Size 100x100, vectors eq: True, times: lib - 0.03597236, invpower - 0.42761564\n",
      "Size 200x200, vectors eq: True, times: lib - 0.07457566, invpower - 0.72008276\n",
      "Size 300x300, vectors eq: True, times: lib - 0.18224072, invpower - 1.01561427\n",
      "Size 400x400, vectors eq: True, times: lib - 0.35126138, invpower - 1.72416425\n",
      "Size 500x500, vectors eq: True, times: lib - 0.53574848, invpower - 2.5378468\n",
      "Size 600x600, vectors eq: True, times: lib - 0.83779645, invpower - 3.59594417\n",
      "Size 700x700, vectors eq: True, times: lib - 1.10878158, invpower - 4.63301086\n",
      "Size 800x800, vectors eq: True, times: lib - 1.47493982, invpower - 0.03645253\n",
      "Size 900x900, vectors eq: True, times: lib - 2.01628065, invpower - 7.23550487\n",
      "Size 1000x1000, vectors eq: True, times: lib - 2.36517167, invpower - 0.06650829\n"
     ]
    }
   ],
   "source": [
    "test()"
   ]
  },
  {
   "cell_type": "markdown",
   "metadata": {},
   "source": [
    "Jak widać, zaimplementowana metoda jest poprawna i zwraca bardzo podobne wyniki do oczekiwanych, wymaga jednak podania przybliżenej wartości własnej.\\\n",
    "Jest trochę wolniejsza od normalnej metody potęgowej(musiałem zmniejszyć maksymalną liczbę iteracji), jeżeli nie będzie spełniony warunek z kryterium małej poprawki(za mały epsilon), jednak często zdarza się że jest spełniony i funkcja kończy się bardzo szybko."
   ]
  },
  {
   "cell_type": "code",
   "execution_count": 10,
   "metadata": {},
   "outputs": [],
   "source": [
    "def rayleigh(M, sig, eps=1e-6, st=1e2):\n",
    "    V = np.random.random_sample(M.shape[0])\n",
    "    for i in range(int(st)):\n",
    "        P,L,U = scplin.lu(M-sig*np.identity(M.shape[0]))\n",
    "        y = scplin.solve_triangular(L, P@V, lower=True)\n",
    "        nex = scplin.solve_triangular(U, y)\n",
    "        normed = nex/np.linalg.norm(nex, ord=np.inf)\n",
    "        if np.linalg.norm(V-normed) < eps:\n",
    "            V = normed\n",
    "            sig = (V.T@M@V)/(V.T@V)\n",
    "            break\n",
    "        V=normed\n",
    "        sig = (V.T@M@V)/(V.T@V)\n",
    "#     print(i)\n",
    "    return sig, (V/np.linalg.norm(V)).reshape(M.shape[0])"
   ]
  },
  {
   "cell_type": "markdown",
   "metadata": {},
   "source": [
    "Funkcja rozwiązująca zadany problem - dla danej macierzy korzystając z metody rayleigha i wyznacza wektor własny macierzy."
   ]
  },
  {
   "cell_type": "code",
   "execution_count": 11,
   "metadata": {},
   "outputs": [],
   "source": [
    "def rev(eps=1e-10):\n",
    "    lib = []\n",
    "    po = []\n",
    "    for i in range(100, 1001, 100):\n",
    "        M = genmatrix(i)\n",
    "        \n",
    "        start = time.time()\n",
    "        w2,v2 = libeig(M)\n",
    "        end = time.time()\n",
    "        lib.append(end-start)\n",
    "        \n",
    "        start = time.time()\n",
    "        w1,v1 = rayleigh(M, w2)\n",
    "        end = time.time()\n",
    "        po.append(end-start)\n",
    "        \n",
    "        if v1[0]*v2[0]<0:\n",
    "            v2=-v2\n",
    "            \n",
    "        print(f\"Size {i}x{i}, vectors eq: {np.all(abs(v2-v1)<eps)},\",\n",
    "              f\"times: lib - {round(lib[-1], 8)}, ray - {round(po[-1], 8)}\")"
   ]
  },
  {
   "cell_type": "code",
   "execution_count": 12,
   "metadata": {
    "scrolled": false
   },
   "outputs": [
    {
     "name": "stdout",
     "output_type": "stream",
     "text": [
      "Size 100x100, vectors eq: True, times: lib - 0.01931429, ray - 0.04238129\n",
      "Size 200x200, vectors eq: True, times: lib - 0.14746761, ray - 0.10874653\n",
      "Size 300x300, vectors eq: True, times: lib - 0.16550279, ray - 0.0132606\n",
      "Size 400x400, vectors eq: True, times: lib - 0.3765161, ray - 0.26286435\n",
      "Size 500x500, vectors eq: True, times: lib - 0.78563356, ray - 0.56608176\n",
      "Size 600x600, vectors eq: True, times: lib - 1.21616721, ray - 0.35969138\n",
      "Size 700x700, vectors eq: True, times: lib - 1.69852757, ray - 0.54206467\n",
      "Size 800x800, vectors eq: True, times: lib - 1.46854949, ray - 0.24653769\n",
      "Size 900x900, vectors eq: True, times: lib - 1.98105073, ray - 0.29121137\n",
      "Size 1000x1000, vectors eq: True, times: lib - 2.46115255, ray - 11.70690131\n"
     ]
    }
   ],
   "source": [
    "rev()"
   ]
  },
  {
   "cell_type": "markdown",
   "metadata": {},
   "source": [
    "Jak widać, zaimplementowana metoda jest poprawna i zwraca bardzo podobne wyniki do oczekiwanych, wymaga jednak podania przybliżenej wartości własnej.\\\n",
    "Jest trochę wolniejsza od odwrotnej metody potęgowej(musiałem zmniejszyć maksymalną liczbę iteracji jeszcze bardziej), jeżeli nie będzie spełniony warunek z kryterium małej poprawki(za mały epsilon), jednak bardzo często zdarza się że jest spełniony i funkcja kończy się bardzo szybko.\n",
    "Optymalizacja Rayleigha pomaga spełnić warunek minimalnej poprawy zazwyczaj znacznie szybciej."
   ]
  }
 ],
 "metadata": {
  "kernelspec": {
   "display_name": "Python 3",
   "language": "python",
   "name": "python3"
  },
  "language_info": {
   "codemirror_mode": {
    "name": "ipython",
    "version": 3
   },
   "file_extension": ".py",
   "mimetype": "text/x-python",
   "name": "python",
   "nbconvert_exporter": "python",
   "pygments_lexer": "ipython3",
   "version": "3.7.4"
  }
 },
 "nbformat": 4,
 "nbformat_minor": 2
}
