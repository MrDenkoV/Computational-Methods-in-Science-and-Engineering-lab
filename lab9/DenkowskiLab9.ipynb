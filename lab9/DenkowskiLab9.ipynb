{
 "cells": [
  {
   "cell_type": "markdown",
   "metadata": {},
   "source": [
    "# Laboratorium 9\n",
    "## Faktoryzacja QR"
   ]
  },
  {
   "cell_type": "code",
   "execution_count": 1,
   "metadata": {},
   "outputs": [],
   "source": [
    "import numpy as np\n",
    "from numpy.linalg import qr\n",
    "import matplotlib.pyplot as plt "
   ]
  },
  {
   "cell_type": "code",
   "execution_count": 2,
   "metadata": {},
   "outputs": [],
   "source": [
    "def genMatrix(n):\n",
    "    return np.random.rand(n,n)"
   ]
  },
  {
   "cell_type": "markdown",
   "metadata": {},
   "source": [
    "### 1. Faktoryzacja QR metodą Grama-Schimdta"
   ]
  },
  {
   "cell_type": "markdown",
   "metadata": {},
   "source": [
    "##### 1) Napisz funkcję dokonującą faktoryzacji QR, metodą  Grama Schimdta"
   ]
  },
  {
   "cell_type": "code",
   "execution_count": 3,
   "metadata": {},
   "outputs": [],
   "source": [
    "def GSQR(A):\n",
    "    Q, R = np.zeros(A.shape), np.zeros(A.shape)\n",
    "    for k in range(A.shape[0]):\n",
    "        ak = A[:, k]\n",
    "        uk = ak\n",
    "        for i in range(k):\n",
    "            uk -= (Q[:, i]@ak)*Q[:, i]\n",
    "        uk = uk/np.linalg.norm(uk)\n",
    "        Q[:, k] = uk\n",
    "    for i in range(A.shape[0]):\n",
    "        R[i, i:] = Q[:, i] @ A[:, i:]\n",
    "    return Q, R"
   ]
  },
  {
   "cell_type": "code",
   "execution_count": 4,
   "metadata": {},
   "outputs": [
    {
     "name": "stdout",
     "output_type": "stream",
     "text": [
      "Works True\n"
     ]
    }
   ],
   "source": [
    "A = genMatrix(5)\n",
    "Q, R = GSQR(A)\n",
    "print(f\"Works {np.allclose(Q@R, A)}\")"
   ]
  },
  {
   "cell_type": "markdown",
   "metadata": {},
   "source": [
    "Funkcja GSQR - przyjmuje macierz A, zwraca macierze Q i R, będące wynikiem faktoryzacji QR. Wykorzystuje fakt, że iloczyn skalarny dwóch wektorów to iloczyn (macierzowy) wektora i kolumny (suma iloczynu odpowiednich wyrazów). Wszystko jest wyliczane zgodnie z treścią zadania, najpierw wyrazy Q, później R."
   ]
  },
  {
   "cell_type": "markdown",
   "metadata": {},
   "source": [
    "##### 2) Przetestuj zaimplementowaną metodę porównując z funkcją biblioteczną"
   ]
  },
  {
   "cell_type": "code",
   "execution_count": 5,
   "metadata": {},
   "outputs": [],
   "source": [
    "def test(sizes=[50, 100, 150, 200, 250]):\n",
    "    for size in sizes:\n",
    "        A = genMatrix(size)\n",
    "        Q1, R1 = GSQR(A)\n",
    "        Q2, R2 = qr(A)\n",
    "        print(f\"Size {size}, Close values Q={np.allclose(np.abs(Q1), np.abs(Q2))} R={np.allclose(np.abs(R1), np.abs(R2))}\")"
   ]
  },
  {
   "cell_type": "code",
   "execution_count": 6,
   "metadata": {},
   "outputs": [
    {
     "name": "stdout",
     "output_type": "stream",
     "text": [
      "Size 50, Close values Q=True R=True\n",
      "Size 100, Close values Q=True R=True\n",
      "Size 150, Close values Q=True R=True\n",
      "Size 200, Close values Q=True R=True\n",
      "Size 250, Close values Q=True R=True\n"
     ]
    }
   ],
   "source": [
    "test()"
   ]
  },
  {
   "cell_type": "markdown",
   "metadata": {},
   "source": [
    "Jak widać funkcja działa poprawnie i zwraca bardzo podobne wyniki do funkcji bibliotecznej."
   ]
  },
  {
   "cell_type": "markdown",
   "metadata": {},
   "source": [
    "##### 3) Wygeneruj 30-50 przykładowych macierzy 8x8 o różnym wskaźniku uwarunkowania cond(A). Wykorzystać SVD oraz biblioteczną QR"
   ]
  },
  {
   "cell_type": "markdown",
   "metadata": {},
   "source": [
    "cond(A) - sotsunek największej do najmniejszej wartości osobliwej.\\\n",
    "SVD - Singular value decomposition - otrzymujemy rozkład na 3 macierze: U, S($\\Sigma$) i V\\\n",
    "Macierz S otrzymana dzięki SVD - Macierz diagonalna z wartościami osobliwymi na przekątnej, sterując nią możemy łatwo wpływać na współczynnik cond(A)\\\n",
    "U, V - macierze ortogonalne - tak samo jak macierz Q z dekompozycji QR\\\n",
    "Możemy rozłożyć dwie macierze i otrzymać macierze ortogonalne, i przy pomocy własnej macierzy diagonalnej wytoworzymy macierz o ustalonym cond(A)"
   ]
  },
  {
   "cell_type": "code",
   "execution_count": 7,
   "metadata": {},
   "outputs": [],
   "source": [
    "def getCondMatrix(cond, n=8):\n",
    "    U,_ = qr(genMatrix(n))\n",
    "    V,_ = qr(genMatrix(n))\n",
    "    S = np.diag(np.linspace(1, cond, n))\n",
    "    return U@S@V"
   ]
  },
  {
   "cell_type": "markdown",
   "metadata": {},
   "source": [
    "##### 4) Dla każdej macierzy wyznacz faktoryzację QR korzystając z zaimplementowanej funkcji, przedstaw zależność $||I-Q^TQ||$ od cond(A)"
   ]
  },
  {
   "cell_type": "code",
   "execution_count": 8,
   "metadata": {},
   "outputs": [],
   "source": [
    "def cond(A):\n",
    "    _,S,_ = np.linalg.svd(A)\n",
    "    return S[0]/S[-1]"
   ]
  },
  {
   "cell_type": "code",
   "execution_count": 9,
   "metadata": {},
   "outputs": [],
   "source": [
    "X, Y = [], []\n",
    "for i in range(1, 50):\n",
    "#     M = getCondMatrix(2**i)\n",
    "    M = getCondMatrix(i**10)\n",
    "    Q,_ = GSQR(M)\n",
    "    X.append(cond(M))\n",
    "    Y.append(np.linalg.norm(np.eye(M.shape[0])-Q.T@Q))"
   ]
  },
  {
   "cell_type": "code",
   "execution_count": 10,
   "metadata": {
    "scrolled": false
   },
   "outputs": [
    {
     "data": {
      "image/png": "[encoded data removed]",
      "text/plain": [
       "<Figure size 432x288 with 1 Axes>"
      ]
     },
     "metadata": {
      "needs_background": "light"
     },
     "output_type": "display_data"
    }
   ],
   "source": [
    "plt.scatter(X, Y);"
   ]
  },
  {
   "cell_type": "markdown",
   "metadata": {},
   "source": [
    "Jak widać im większy wskaźnik uwarunkowania cond(A), tym większy błąd uzyskanych wyników - początkowo wzrasta bardzo dynamicznie, później wygląda jakby zaczął zbiegać do konkretnej wartości (przypomina trochę wzrosta jak $y=\\sqrt x$), niemniej jednak i tak jest na tyle duży, że wyniki przestają mieć sens.\\\n",
    "Głównym powodem jest niedokładność obliczeń, która się kumuluje szczególnie przy wyliczaniu $u_k$ w metodzie Grama-Schimdta."
   ]
  },
  {
   "cell_type": "markdown",
   "metadata": {},
   "source": [
    "### 2. Rozwiązywanie układów równań metodą QR"
   ]
  },
  {
   "cell_type": "markdown",
   "metadata": {},
   "source": [
    "Wykorzystując faktoryzację QR rozwiązać nadokreślony układ równań.\\\n",
    "Wykorzystując Q - orogonalne, więc $Q^T=Q^{-1}$ a także mechanizm back substitiution.\\\n",
    "Wykorzystać do aproskymacji średniokwadratowej dla zbioru punktów(X i Y poniżej) i modelu $f(x) = \\alpha_0+\\alpha_1x+\\alpha_2x^2$\\\n",
    "Przedstaw wizualizację."
   ]
  },
  {
   "cell_type": "code",
   "execution_count": 11,
   "metadata": {},
   "outputs": [],
   "source": [
    "X = np.linspace(-5, 5, 11)\n",
    "Y = np.array([2., 7., 9., 12., 13., 14., 14., 13., 10., 8., 4.]).reshape(-1, 1)"
   ]
  },
  {
   "cell_type": "markdown",
   "metadata": {},
   "source": [
    "W tych wzorach X to kolumna współczynników alfa - kolumna szukana\\\n",
    "$AX=Y$\\\n",
    "równanie startowe, po rozłożeniu macierzy A przy pomocy faktoryzacji QR na macierze QR otrzymamy:\\\n",
    "$QRX=Y$\\\n",
    "Q - ortogonalna, więc $Q^{-1}=Q^T$\\\n",
    "$RX=Q^TY$\\\n",
    "R - macierz trójkątna górna, więc możemy zastosować back substitiution i wyznaczyć poszczególne wartości szukanych"
   ]
  },
  {
   "cell_type": "code",
   "execution_count": 12,
   "metadata": {},
   "outputs": [],
   "source": [
    "def back(A, Y):\n",
    "    M=np.hstack((A,Y))\n",
    "    for i in range(M.shape[0]-1, 1, -1):\n",
    "        for j in range(i):\n",
    "            M[j] *= (M[i][i]/M[j][i]) # przeskalowanie wiersza\n",
    "            M[j] -= M[i]\n",
    "    res=[]\n",
    "    for i in range(M.shape[0]):\n",
    "        res.append([M[i][-1]/M[i][i]])\n",
    "    \n",
    "    return np.array(res)"
   ]
  },
  {
   "cell_type": "code",
   "execution_count": 13,
   "metadata": {},
   "outputs": [],
   "source": [
    "def solve(X=X, Y=Y):\n",
    "    A = np.array([[1, x, x*x] for x in X])\n",
    "    Q,R = qr(A)\n",
    "    return back(R, (Q.T@Y))"
   ]
  },
  {
   "cell_type": "code",
   "execution_count": 14,
   "metadata": {
    "scrolled": true
   },
   "outputs": [],
   "source": [
    "W=solve()"
   ]
  },
  {
   "cell_type": "code",
   "execution_count": 15,
   "metadata": {},
   "outputs": [
    {
     "data": {
      "text/plain": [
       "[<matplotlib.lines.Line2D at 0x7f8f4c04c790>]"
      ]
     },
     "execution_count": 15,
     "metadata": {},
     "output_type": "execute_result"
    },
    {
     "data": {
      "image/png": "[encoded data removed]",
      "text/plain": [
       "<Figure size 432x288 with 1 Axes>"
      ]
     },
     "metadata": {
      "needs_background": "light"
     },
     "output_type": "display_data"
    }
   ],
   "source": [
    "Xs = np.linspace(-5, 5, 100)\n",
    "Ys = W[0]+W[1]*Xs+W[2]*Xs**2\n",
    "plt.scatter(X, Y)\n",
    "plt.plot(Xs, Ys)"
   ]
  },
  {
   "cell_type": "markdown",
   "metadata": {},
   "source": [
    "Jak widać metoda bardzo dobrze pozwala aproksymować średniokwadratowo, nawet dla nie tak dobrze uwarunkowanych nadokreślonych macierzy."
   ]
  }
 ],
 "metadata": {
  "kernelspec": {
   "display_name": "Python 3",
   "language": "python",
   "name": "python3"
  },
  "language_info": {
   "codemirror_mode": {
    "name": "ipython",
    "version": 3
   },
   "file_extension": ".py",
   "mimetype": "text/x-python",
   "name": "python",
   "nbconvert_exporter": "python",
   "pygments_lexer": "ipython3",
   "version": "3.7.4"
  }
 },
 "nbformat": 4,
 "nbformat_minor": 4
}
